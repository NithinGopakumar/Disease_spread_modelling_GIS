{
  "nbformat": 4,
  "nbformat_minor": 0,
  "metadata": {
    "colab": {
      "name": "final_flow.ipynb",
      "provenance": [],
      "collapsed_sections": []
    },
    "kernelspec": {
      "name": "python3",
      "display_name": "Python 3"
    }
  },
  "cells": [
    {
      "cell_type": "code",
      "metadata": {
        "colab": {
          "base_uri": "https://localhost:8080/"
        },
        "id": "iy-vyuqHGgM6",
        "outputId": "5844a3a5-7bd3-4b87-e828-5ef77dad097a"
      },
      "source": [
        "!pip install geopandas\r\n",
        "!pip install pysheds\r\n",
        "!pip install mplleaflet\r\n",
        "!pip install polycircles"
      ],
      "execution_count": null,
      "outputs": [
        {
          "output_type": "stream",
          "text": [
            "Collecting geopandas\n",
            "\u001b[?25l  Downloading https://files.pythonhosted.org/packages/2a/9f/e8a440a993e024c0d3d4e5c7d3346367c50c9a1a3d735caf5ee3bde0aab1/geopandas-0.8.2-py2.py3-none-any.whl (962kB)\n",
            "\u001b[K     |████████████████████████████████| 972kB 7.6MB/s \n",
            "\u001b[?25hRequirement already satisfied: shapely in /usr/local/lib/python3.7/dist-packages (from geopandas) (1.7.1)\n",
            "Collecting fiona\n",
            "\u001b[?25l  Downloading https://files.pythonhosted.org/packages/47/c2/67d1d0acbaaee3b03e5e22e3b96c33219cb5dd392531c9ff9cee7c2eb3e4/Fiona-1.8.18-cp37-cp37m-manylinux1_x86_64.whl (14.8MB)\n",
            "\u001b[K     |████████████████████████████████| 14.8MB 340kB/s \n",
            "\u001b[?25hRequirement already satisfied: pandas>=0.23.0 in /usr/local/lib/python3.7/dist-packages (from geopandas) (1.1.5)\n",
            "Collecting pyproj>=2.2.0\n",
            "\u001b[?25l  Downloading https://files.pythonhosted.org/packages/05/0c/d7c2c7c370ea5368b813a44e772247ed1a461dc47de70c5d02e079abc7e0/pyproj-3.0.0.post1-cp37-cp37m-manylinux2010_x86_64.whl (6.4MB)\n",
            "\u001b[K     |████████████████████████████████| 6.5MB 45.8MB/s \n",
            "\u001b[?25hRequirement already satisfied: certifi in /usr/local/lib/python3.7/dist-packages (from fiona->geopandas) (2020.12.5)\n",
            "Requirement already satisfied: six>=1.7 in /usr/local/lib/python3.7/dist-packages (from fiona->geopandas) (1.15.0)\n",
            "Collecting cligj>=0.5\n",
            "  Downloading https://files.pythonhosted.org/packages/42/1e/947eadf10d6804bf276eb8a038bd5307996dceaaa41cfd21b7a15ec62f5d/cligj-0.7.1-py3-none-any.whl\n",
            "Requirement already satisfied: click<8,>=4.0 in /usr/local/lib/python3.7/dist-packages (from fiona->geopandas) (7.1.2)\n",
            "Collecting click-plugins>=1.0\n",
            "  Downloading https://files.pythonhosted.org/packages/e9/da/824b92d9942f4e472702488857914bdd50f73021efea15b4cad9aca8ecef/click_plugins-1.1.1-py2.py3-none-any.whl\n",
            "Collecting munch\n",
            "  Downloading https://files.pythonhosted.org/packages/cc/ab/85d8da5c9a45e072301beb37ad7f833cd344e04c817d97e0cc75681d248f/munch-2.5.0-py2.py3-none-any.whl\n",
            "Requirement already satisfied: attrs>=17 in /usr/local/lib/python3.7/dist-packages (from fiona->geopandas) (20.3.0)\n",
            "Requirement already satisfied: pytz>=2017.2 in /usr/local/lib/python3.7/dist-packages (from pandas>=0.23.0->geopandas) (2018.9)\n",
            "Requirement already satisfied: numpy>=1.15.4 in /usr/local/lib/python3.7/dist-packages (from pandas>=0.23.0->geopandas) (1.19.5)\n",
            "Requirement already satisfied: python-dateutil>=2.7.3 in /usr/local/lib/python3.7/dist-packages (from pandas>=0.23.0->geopandas) (2.8.1)\n",
            "Installing collected packages: cligj, click-plugins, munch, fiona, pyproj, geopandas\n",
            "Successfully installed click-plugins-1.1.1 cligj-0.7.1 fiona-1.8.18 geopandas-0.8.2 munch-2.5.0 pyproj-3.0.0.post1\n",
            "Collecting pysheds\n",
            "\u001b[?25l  Downloading https://files.pythonhosted.org/packages/cb/46/05e39e61ef969e552d3fd30ca66396f2cdffe943a0f499c6a76779a335a4/pysheds-0.2.7.tar.gz (53kB)\n",
            "\u001b[K     |████████████████████████████████| 61kB 5.5MB/s \n",
            "\u001b[?25hRequirement already satisfied: numpy in /usr/local/lib/python3.7/dist-packages (from pysheds) (1.19.5)\n",
            "Requirement already satisfied: pandas in /usr/local/lib/python3.7/dist-packages (from pysheds) (1.1.5)\n",
            "Requirement already satisfied: scipy in /usr/local/lib/python3.7/dist-packages (from pysheds) (1.4.1)\n",
            "Requirement already satisfied: pyproj in /usr/local/lib/python3.7/dist-packages (from pysheds) (3.0.0.post1)\n",
            "Requirement already satisfied: scikit-image in /usr/local/lib/python3.7/dist-packages (from pysheds) (0.16.2)\n",
            "Collecting affine\n",
            "  Downloading https://files.pythonhosted.org/packages/ac/a6/1a39a1ede71210e3ddaf623982b06ecfc5c5c03741ae659073159184cd3e/affine-2.3.0-py2.py3-none-any.whl\n",
            "Collecting geojson\n",
            "  Downloading https://files.pythonhosted.org/packages/e4/8d/9e28e9af95739e6d2d2f8d4bef0b3432da40b7c3588fbad4298c1be09e48/geojson-2.5.0-py2.py3-none-any.whl\n",
            "Collecting rasterio>=1\n",
            "\u001b[?25l  Downloading https://files.pythonhosted.org/packages/cb/ed/aa7cc593dbcb974f80ca0a15967d44abc820dbeb063e01478c95adcca156/rasterio-1.2.0-cp37-cp37m-manylinux1_x86_64.whl (19.1MB)\n",
            "\u001b[K     |████████████████████████████████| 19.1MB 1.2MB/s \n",
            "\u001b[?25hRequirement already satisfied: pytz>=2017.2 in /usr/local/lib/python3.7/dist-packages (from pandas->pysheds) (2018.9)\n",
            "Requirement already satisfied: python-dateutil>=2.7.3 in /usr/local/lib/python3.7/dist-packages (from pandas->pysheds) (2.8.1)\n",
            "Requirement already satisfied: certifi in /usr/local/lib/python3.7/dist-packages (from pyproj->pysheds) (2020.12.5)\n",
            "Requirement already satisfied: networkx>=2.0 in /usr/local/lib/python3.7/dist-packages (from scikit-image->pysheds) (2.5)\n",
            "Requirement already satisfied: pillow>=4.3.0 in /usr/local/lib/python3.7/dist-packages (from scikit-image->pysheds) (7.0.0)\n",
            "Requirement already satisfied: imageio>=2.3.0 in /usr/local/lib/python3.7/dist-packages (from scikit-image->pysheds) (2.4.1)\n",
            "Requirement already satisfied: PyWavelets>=0.4.0 in /usr/local/lib/python3.7/dist-packages (from scikit-image->pysheds) (1.1.1)\n",
            "Requirement already satisfied: matplotlib!=3.0.0,>=2.0.0 in /usr/local/lib/python3.7/dist-packages (from scikit-image->pysheds) (3.2.2)\n",
            "Requirement already satisfied: attrs in /usr/local/lib/python3.7/dist-packages (from rasterio>=1->pysheds) (20.3.0)\n",
            "Requirement already satisfied: click-plugins in /usr/local/lib/python3.7/dist-packages (from rasterio>=1->pysheds) (1.1.1)\n",
            "Collecting snuggs>=1.4.1\n",
            "  Downloading https://files.pythonhosted.org/packages/cc/0e/d27d6e806d6c0d1a2cfdc5d1f088e42339a0a54a09c3343f7f81ec8947ea/snuggs-1.4.7-py3-none-any.whl\n",
            "Requirement already satisfied: cligj>=0.5 in /usr/local/lib/python3.7/dist-packages (from rasterio>=1->pysheds) (0.7.1)\n",
            "Requirement already satisfied: click<8,>=4.0 in /usr/local/lib/python3.7/dist-packages (from rasterio>=1->pysheds) (7.1.2)\n",
            "Requirement already satisfied: six>=1.5 in /usr/local/lib/python3.7/dist-packages (from python-dateutil>=2.7.3->pandas->pysheds) (1.15.0)\n",
            "Requirement already satisfied: decorator>=4.3.0 in /usr/local/lib/python3.7/dist-packages (from networkx>=2.0->scikit-image->pysheds) (4.4.2)\n",
            "Requirement already satisfied: pyparsing!=2.0.4,!=2.1.2,!=2.1.6,>=2.0.1 in /usr/local/lib/python3.7/dist-packages (from matplotlib!=3.0.0,>=2.0.0->scikit-image->pysheds) (2.4.7)\n",
            "Requirement already satisfied: kiwisolver>=1.0.1 in /usr/local/lib/python3.7/dist-packages (from matplotlib!=3.0.0,>=2.0.0->scikit-image->pysheds) (1.3.1)\n",
            "Requirement already satisfied: cycler>=0.10 in /usr/local/lib/python3.7/dist-packages (from matplotlib!=3.0.0,>=2.0.0->scikit-image->pysheds) (0.10.0)\n",
            "Building wheels for collected packages: pysheds\n",
            "  Building wheel for pysheds (setup.py) ... \u001b[?25l\u001b[?25hdone\n",
            "  Created wheel for pysheds: filename=pysheds-0.2.7-cp37-none-any.whl size=51838 sha256=ae10bc198f32be7fc430533370bf61d0ac93fc9f01827c094b98b1c93c68ccc2\n",
            "  Stored in directory: /root/.cache/pip/wheels/e4/87/6f/f67cbfbc39ea2c76e0cb801c37590b9e3c47e9eee7baea2547\n",
            "Successfully built pysheds\n",
            "Installing collected packages: affine, geojson, snuggs, rasterio, pysheds\n",
            "Successfully installed affine-2.3.0 geojson-2.5.0 pysheds-0.2.7 rasterio-1.2.0 snuggs-1.4.7\n",
            "Collecting mplleaflet\n",
            "  Downloading https://files.pythonhosted.org/packages/05/b3/e68ff575ef0872e096878c75f602e76b06ca44d7038d69d867c7b800745b/mplleaflet-0.0.5.tar.gz\n",
            "Requirement already satisfied: jinja2 in /usr/local/lib/python3.7/dist-packages (from mplleaflet) (2.11.3)\n",
            "Requirement already satisfied: six in /usr/local/lib/python3.7/dist-packages (from mplleaflet) (1.15.0)\n",
            "Requirement already satisfied: MarkupSafe>=0.23 in /usr/local/lib/python3.7/dist-packages (from jinja2->mplleaflet) (1.1.1)\n",
            "Building wheels for collected packages: mplleaflet\n",
            "  Building wheel for mplleaflet (setup.py) ... \u001b[?25l\u001b[?25hdone\n",
            "  Created wheel for mplleaflet: filename=mplleaflet-0.0.5-cp37-none-any.whl size=28556 sha256=bd60ec1b14c7d1a8ecb50345ea5273b8b39e144bfe86e5299080ffe444e08690\n",
            "  Stored in directory: /root/.cache/pip/wheels/bf/fd/0b/0513de62c339c4a56e2234aa42a5d06e6660a4446fdae7b796\n",
            "Successfully built mplleaflet\n",
            "Installing collected packages: mplleaflet\n",
            "Successfully installed mplleaflet-0.0.5\n",
            "Collecting polycircles\n",
            "  Downloading https://files.pythonhosted.org/packages/1d/e5/5f35b2bde7f64b75d48495a803467a70dbcd503f7436829f55fcfa314435/polycircles-0.3.7.tar.gz\n",
            "Requirement already satisfied: geographiclib in /usr/local/lib/python3.7/dist-packages (from polycircles) (1.50)\n",
            "Building wheels for collected packages: polycircles\n",
            "  Building wheel for polycircles (setup.py) ... \u001b[?25l\u001b[?25hdone\n",
            "  Created wheel for polycircles: filename=polycircles-0.3.7-cp37-none-any.whl size=4311 sha256=05d290a0600ad61e71b7a03ba7f5148faaf20c0bf6e1db126559ba315ead5832\n",
            "  Stored in directory: /root/.cache/pip/wheels/9f/ff/00/48002d1cc6ba7170a0442ab1f3d64df8001571312d09d92165\n",
            "Successfully built polycircles\n",
            "Installing collected packages: polycircles\n",
            "Successfully installed polycircles-0.3.7\n"
          ],
          "name": "stdout"
        }
      ]
    },
    {
      "cell_type": "code",
      "metadata": {
        "id": "jtAyKzClRtRZ"
      },
      "source": [
        "### Pls upload the python script and the location csv"
      ],
      "execution_count": null,
      "outputs": []
    },
    {
      "cell_type": "code",
      "metadata": {
        "id": "PCARBVAqHJSS"
      },
      "source": [
        "import gdal"
      ],
      "execution_count": null,
      "outputs": []
    },
    {
      "cell_type": "code",
      "metadata": {
        "colab": {
          "base_uri": "https://localhost:8080/"
        },
        "id": "iEshpAumYLzd",
        "outputId": "f32e60fe-5d3f-4777-ad8b-7143b347378f"
      },
      "source": [
        "!gdalwarp -t_srs EPSG:4326 /content/drive/MyDrive/DEM/m_idukki1.tif output.tif\r\n"
      ],
      "execution_count": null,
      "outputs": [
        {
          "output_type": "stream",
          "text": [
            "Creating output file that is 2835P x 3897L.\n",
            "Processing input file /content/drive/MyDrive/DEM/m_idukki1.tif.\n",
            "Using internal nodata values (e.g. 0) for image /content/drive/MyDrive/DEM/m_idukki1.tif.\n",
            "Copying nodata values from source /content/drive/MyDrive/DEM/m_idukki1.tif to destination output.tif.\n",
            "0...10...20...30...40...50...60...70...80...90...100 - done.\n"
          ],
          "name": "stdout"
        }
      ]
    },
    {
      "cell_type": "code",
      "metadata": {
        "colab": {
          "base_uri": "https://localhost:8080/"
        },
        "id": "slLdfT3HHJYV",
        "outputId": "78fb6bb5-1581-4872-992e-0d45e40e4841"
      },
      "source": [
        "!python3 /content/Flow_acc_final.py -d '/content/output.tif' -f '/content/tbl_data.csv' -lat 9.94 -lon 77.18 -b 10.0 -t 2000"
      ],
      "execution_count": null,
      "outputs": [
        {
          "output_type": "stream",
          "text": [
            "The raster has been read\n",
            "The Depressions have been filled and the Flats have been resolved\n",
            "Flow direction is computed\n",
            "Flow accumulation is computed\n",
            "Catchment Delineated\n",
            "[{\"geometry\": {\"coordinates\": [[77.20978, 10.155564], [77.209501, 10.155844], [77.209221, 10.156124], [77.209221, 10.156403], [77.209221, 10.156683], [77.209221, 10.156963], [77.209221, 10.157242], [77.208941, 10.157522], [77.208941, 10.157802], [77.208661, 10.158082], [77.208661, 10.158361], [77.208382, 10.158641], [77.208102, 10.158921], [77.208102, 10.1592], [77.207822, 10.15948], [77.207543, 10.15976], [77.207263, 10.16004], [77.206983, 10.16004], [77.206703, 10.160319], [77.206424, 10.160319], [77.206144, 10.160319], [77.205864, 10.160319], [77.205585, 10.160319], [77.205305, 10.160599], [77.205025, 10.160879], [77.204746, 10.161158], [77.204466, 10.161438], [77.204186, 10.161718], [77.203906, 10.161998], [77.203627, 10.162277], [77.203347, 10.162557], [77.203067, 10.162837], [77.202788, 10.162837], [77.202508, 10.163116], [77.202228, 10.163396], [77.202228, 10.163676], [77.202228, 10.163955], [77.202228, 10.164235], [77.202508, 10.164515], [77.202788, 10.164515], [77.203067, 10.164795], [77.203067, 10.165074], [77.203347, 10.165074], [77.203627, 10.165354], [77.203906, 10.165634], [77.203906, 10.165913], [77.204186, 10.166193], [77.204466, 10.166473], [77.204466, 10.166753], [77.204746, 10.166753], [77.205025, 10.167032], [77.205025, 10.167312], [77.205025, 10.167592], [77.205025, 10.167871], [77.205025, 10.168151], [77.205025, 10.168431], [77.204746, 10.16871], [77.204466, 10.16899], [77.204466, 10.16927], [77.204186, 10.16955], [77.203906, 10.169829], [77.203906, 10.170109], [77.203906, 10.170389], [77.203906, 10.170668], [77.203627, 10.170948], [77.203347, 10.170948], [77.203067, 10.170948], [77.202788, 10.171228], [77.202508, 10.171508], [77.202228, 10.171787], [77.201948, 10.172067], [77.201669, 10.172347], [77.201389, 10.172347], [77.201109, 10.172626], [77.20083, 10.172906], [77.20083, 10.173186], [77.20055, 10.173186], [77.20027, 10.173466], [77.20027, 10.173745], [77.20027, 10.174025], [77.20027, 10.174305], [77.20027, 10.174584], [77.20027, 10.174864], [77.20027, 10.175144], [77.20027, 10.175423], [77.20027, 10.175703]], \"type\": \"LineString\"}, \"id\": 0, \"properties\": {}, \"type\": \"Feature\"}, {\"geometry\": {\"coordinates\": [[77.20978, 10.155564], [77.21006, 10.155844], [77.21034, 10.156124], [77.210619, 10.156403], [77.210899, 10.156683], [77.210899, 10.156963], [77.211179, 10.157242], [77.211179, 10.157522], [77.211459, 10.157802], [77.211459, 10.158082], [77.211738, 10.158361], [77.212018, 10.158641], [77.212298, 10.158921], [77.212577, 10.1592], [77.212577, 10.15948], [77.212577, 10.15976], [77.212857, 10.16004], [77.212857, 10.160319], [77.213137, 10.160599], [77.213416, 10.160599], [77.213696, 10.160599], [77.213976, 10.160599], [77.214256, 10.160599], [77.214535, 10.160319], [77.214815, 10.160319], [77.215095, 10.160599], [77.215374, 10.160879], [77.215654, 10.161158], [77.215934, 10.161438], [77.215934, 10.161718], [77.216214, 10.161998], [77.216493, 10.162277], [77.216773, 10.162557], [77.216773, 10.162837], [77.217053, 10.163116], [77.217332, 10.163116], [77.217612, 10.163396], [77.217892, 10.163396], [77.218171, 10.163396], [77.218451, 10.163676], [77.218731, 10.163676], [77.218731, 10.163955], [77.219011, 10.163955], [77.21929, 10.163955], [77.21957, 10.163955], [77.21985, 10.164235]], \"type\": \"LineString\"}, \"id\": 1, \"properties\": {}, \"type\": \"Feature\"}]\n",
            "River network has been extracted\n",
            "The farmer locations are plotted\n",
            "Buffer created\n",
            "\n",
            "\n",
            "The results have been added onto the OUTPUT folder\n"
          ],
          "name": "stdout"
        }
      ]
    },
    {
      "cell_type": "code",
      "metadata": {
        "id": "E3xPqOyV8hR1"
      },
      "source": [
        ""
      ],
      "execution_count": null,
      "outputs": []
    },
    {
      "cell_type": "code",
      "metadata": {
        "id": "WRLw2tRt8fVM"
      },
      "source": [
        ""
      ],
      "execution_count": null,
      "outputs": []
    }
  ]
}