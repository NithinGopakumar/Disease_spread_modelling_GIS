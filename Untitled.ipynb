{
 "cells": [
  {
   "cell_type": "code",
   "execution_count": 4,
   "metadata": {},
   "outputs": [
    {
     "ename": "ModuleNotFoundError",
     "evalue": "No module named 'mpl_toolkits.basemap'",
     "output_type": "error",
     "traceback": [
      "\u001b[1;31m---------------------------------------------------------------------------\u001b[0m",
      "\u001b[1;31mModuleNotFoundError\u001b[0m                       Traceback (most recent call last)",
      "\u001b[1;32m<ipython-input-4-d9467465a3b6>\u001b[0m in \u001b[0;36m<module>\u001b[1;34m\u001b[0m\n\u001b[1;32m----> 1\u001b[1;33m \u001b[1;32mfrom\u001b[0m \u001b[0mmpl_toolkits\u001b[0m\u001b[1;33m.\u001b[0m\u001b[0mbasemap\u001b[0m \u001b[1;32mimport\u001b[0m \u001b[0mBasemap\u001b[0m\u001b[1;33m\u001b[0m\u001b[1;33m\u001b[0m\u001b[0m\n\u001b[0m",
      "\u001b[1;31mModuleNotFoundError\u001b[0m: No module named 'mpl_toolkits.basemap'"
     ]
    }
   ],
   "source": [
    "from mpl_toolkits.basemap import Basemap"
   ]
  },
  {
   "cell_type": "code",
   "execution_count": 3,
   "metadata": {},
   "outputs": [
    {
     "name": "stdout",
     "output_type": "stream",
     "text": [
      "Collecting GEOS\n",
      "  Downloading geos-0.2.2-py3-none-any.whl (368 kB)\n",
      "Requirement already satisfied: pillow in c:\\users\\nithi\\.conda\\envs\\gis\\lib\\site-packages (from GEOS) (8.1.0)\n",
      "Collecting flask\n",
      "  Downloading Flask-1.1.2-py2.py3-none-any.whl (94 kB)\n",
      "Requirement already satisfied: Jinja2>=2.10.1 in c:\\users\\nithi\\.conda\\envs\\gis\\lib\\site-packages (from flask->GEOS) (2.11.2)\n",
      "Requirement already satisfied: click>=5.1 in c:\\users\\nithi\\.conda\\envs\\gis\\lib\\site-packages (from flask->GEOS) (7.1.2)\n",
      "Collecting itsdangerous>=0.24\n",
      "  Downloading itsdangerous-1.1.0-py2.py3-none-any.whl (16 kB)\n",
      "Requirement already satisfied: MarkupSafe>=0.23 in c:\\users\\nithi\\.conda\\envs\\gis\\lib\\site-packages (from Jinja2>=2.10.1->flask->GEOS) (1.1.1)\n",
      "Collecting lxml\n",
      "  Downloading lxml-4.6.2-cp38-cp38-win_amd64.whl (3.5 MB)\n",
      "Collecting Werkzeug>=0.15\n",
      "  Using cached Werkzeug-1.0.1-py2.py3-none-any.whl (298 kB)\n",
      "Installing collected packages: Werkzeug, itsdangerous, lxml, flask, GEOS\n",
      "Successfully installed GEOS-0.2.2 Werkzeug-1.0.1 flask-1.1.2 itsdangerous-1.1.0 lxml-4.6.2\n",
      "Note: you may need to restart the kernel to use updated packages.\n"
     ]
    }
   ],
   "source": [
    "pip install GEOS"
   ]
  },
  {
   "cell_type": "code",
   "execution_count": 1,
   "metadata": {},
   "outputs": [
    {
     "name": "stdout",
     "output_type": "stream",
     "text": [
      "affine==2.3.0\n",
      "appdirs==1.4.4\n",
      "argon2-cffi @ file:///C:/ci/argon2-cffi_1596828585465/work\n",
      "arrow==0.17.0\n",
      "astroid==2.4.2\n",
      "async-generator==1.10\n",
      "attrs @ file:///tmp/build/80754af9/attrs_1604765588209/work\n",
      "backcall==0.2.0\n",
      "beautifulsoup4==4.9.3\n",
      "binaryornot==0.4.4\n",
      "bleach @ file:///tmp/build/80754af9/bleach_1600439572647/work\n",
      "certifi==2020.12.5\n",
      "cffi @ file:///C:/ci/cffi_1606255208697/work\n",
      "chardet==4.0.0\n",
      "click==7.1.2\n",
      "click-plugins==1.1.1\n",
      "cligj==0.7.1\n",
      "colorama==0.4.3\n",
      "cookiecutter==1.7.2\n",
      "cycler==0.10.0\n",
      "decorator==4.4.2\n",
      "defusedxml==0.6.0\n",
      "elevation==1.1.0\n",
      "entrypoints==0.3\n",
      "fasteners==0.16\n",
      "Fiona==1.8.13.post1\n",
      "Flask==1.1.2\n",
      "GDAL==3.0.2\n",
      "geographiclib==1.50\n",
      "geojson==2.5.0\n",
      "geopandas @ file:///tmp/build/80754af9/geopandas_1594937497867/work\n",
      "geos==0.2.2\n",
      "idna==2.10\n",
      "imageio==2.9.0\n",
      "importlib-metadata @ file:///tmp/build/80754af9/importlib-metadata_1602276842396/work\n",
      "ipykernel==5.3.4\n",
      "ipython==7.18.1\n",
      "ipython-genutils==0.2.0\n",
      "isort==5.4.2\n",
      "itsdangerous==1.1.0\n",
      "jedi==0.17.2\n",
      "Jinja2==2.11.2\n",
      "jinja2-time==0.2.0\n",
      "jsonschema @ file:///tmp/build/80754af9/jsonschema_1602607155483/work\n",
      "jupyter-client==6.1.7\n",
      "jupyter-core==4.6.3\n",
      "jupyterlab-pygments @ file:///tmp/build/80754af9/jupyterlab_pygments_1601490720602/work\n",
      "kiwisolver==1.3.1\n",
      "lazy-object-proxy==1.4.3\n",
      "libpysal==4.3.0\n",
      "lxml==4.6.2\n",
      "MarkupSafe==1.1.1\n",
      "matplotlib==3.3.3\n",
      "mccabe==0.6.1\n",
      "Mesa==0.8.8.1\n",
      "mesa-geo==0.2.0\n",
      "mistune==0.8.4\n",
      "mkl-fft==1.2.0\n",
      "mkl-random==1.1.1\n",
      "mkl-service==2.3.0\n",
      "mplleaflet==0.0.5\n",
      "munch==2.5.0\n",
      "nbclient @ file:///tmp/build/80754af9/nbclient_1602783176460/work\n",
      "nbconvert @ file:///C:/ci/nbconvert_1601914925608/work\n",
      "nbformat @ file:///tmp/build/80754af9/nbformat_1602783287752/work\n",
      "nest-asyncio @ file:///tmp/build/80754af9/nest-asyncio_1606153767164/work\n",
      "networkx==2.5\n",
      "notebook @ file:///C:/ci/notebook_1608817539935/work\n",
      "numpy @ file:///C:/ci/numpy_and_numpy_base_1603466732592/work\n",
      "osgeo==0.0.0\n",
      "packaging @ file:///tmp/build/80754af9/packaging_1607971725249/work\n",
      "pandas @ file:///C:/ci/pandas_1609008050392/work\n",
      "pandocfilters @ file:///C:/ci/pandocfilters_1605102497129/work\n",
      "parso==0.7.1\n",
      "pickleshare==0.7.5\n",
      "Pillow==8.1.0\n",
      "polycircles==0.3.7\n",
      "poyo==0.5.0\n",
      "prometheus-client @ file:///tmp/build/80754af9/prometheus_client_1606344362066/work\n",
      "prompt-toolkit==3.0.7\n",
      "pycparser @ file:///tmp/build/80754af9/pycparser_1594388511720/work\n",
      "Pygments==2.7.1\n",
      "pylint==2.6.0\n",
      "pyparsing==2.4.7\n",
      "pyproj==2.6.1.post1\n",
      "pyrsistent @ file:///C:/ci/pyrsistent_1600141795814/work\n",
      "pysheds==0.2.7\n",
      "python-dateutil==2.8.1\n",
      "python-slugify==4.0.1\n",
      "pytz @ file:///tmp/build/80754af9/pytz_1608922264688/work\n",
      "PyWavelets==1.1.1\n",
      "pywin32==228\n",
      "pywinpty==0.5.7\n",
      "pyzmq==19.0.2\n",
      "rasterio==1.1.1\n",
      "requests==2.25.1\n",
      "Rtree==0.9.4\n",
      "scikit-image==0.18.1\n",
      "scipy==1.6.0\n",
      "Send2Trash @ file:///tmp/build/80754af9/send2trash_1607525499227/work\n",
      "Shapely==1.7.1\n",
      "simplekml==1.3.5\n",
      "six==1.15.0\n",
      "snuggs==1.4.7\n",
      "soupsieve==2.1\n",
      "terminado==0.9.2\n",
      "testpath==0.4.4\n",
      "text-unidecode==1.3\n",
      "tifffile==2021.1.11\n",
      "toml==0.10.1\n",
      "tornado==6.0.4\n",
      "tqdm==4.56.0\n",
      "traitlets==5.0.4\n",
      "urllib3==1.26.2\n",
      "wcwidth==0.2.5\n",
      "webencodings==0.5.1\n",
      "Werkzeug==1.0.1\n",
      "wincertstore==0.2\n",
      "wrapt==1.12.1\n",
      "zipp @ file:///tmp/build/80754af9/zipp_1604001098328/work\n",
      "Note: you may need to restart the kernel to use updated packages.\n"
     ]
    }
   ],
   "source": [
    "pip freeze"
   ]
  },
  {
   "cell_type": "code",
   "execution_count": null,
   "metadata": {},
   "outputs": [],
   "source": []
  }
 ],
 "metadata": {
  "kernelspec": {
   "display_name": "Python 3",
   "language": "python",
   "name": "python3"
  },
  "language_info": {
   "codemirror_mode": {
    "name": "ipython",
    "version": 3
   },
   "file_extension": ".py",
   "mimetype": "text/x-python",
   "name": "python",
   "nbconvert_exporter": "python",
   "pygments_lexer": "ipython3",
   "version": "3.8.5"
  }
 },
 "nbformat": 4,
 "nbformat_minor": 4
}
