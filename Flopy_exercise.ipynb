{
 "cells": [
  {
   "cell_type": "code",
   "execution_count": 1,
   "metadata": {},
   "outputs": [],
   "source": [
    "#Import\n",
    "%matplotlib inline\n",
    "import numpy as np\n",
    "import matplotlib.pyplot as plt\n",
    "import flopy\n",
    "import flopy.modflow as mf\n",
    "import flopy.mt3d as mt\n",
    "import flopy.utils as fu"
   ]
  },
  {
   "cell_type": "code",
   "execution_count": 17,
   "metadata": {},
   "outputs": [
    {
     "data": {
      "text/plain": [
       "'D:\\\\IIITMK+GIS\\\\REPOS\\\\GIS_repo'"
      ]
     },
     "execution_count": 17,
     "metadata": {},
     "output_type": "execute_result"
    }
   ],
   "source": [
    "pwd"
   ]
  },
  {
   "cell_type": "code",
   "execution_count": 2,
   "metadata": {},
   "outputs": [],
   "source": [
    "#MODFLOW 2005\n",
    "modelname = 'example'\n",
    "mf_model = mf.Modflow(modelname = modelname, exe_name='mf2005.exe')"
   ]
  },
  {
   "cell_type": "code",
   "execution_count": 3,
   "metadata": {},
   "outputs": [],
   "source": [
    "#DIS file\n",
    "Lx = 310\n",
    "Ly = 310\n",
    "nrow = 31\n",
    "ncol = 31\n",
    "nlay = 1\n",
    "delr = Lx / ncol\n",
    "delc = Ly / nrow\n",
    "top = np.ones((nrow, ncol))\n",
    "botm = np.zeros((nrow, ncol))\n",
    "perlen = 27\n",
    "\n",
    "dis = mf.ModflowDis(mf_model, nlay, nrow, ncol, delr = delr, delc = delc, \n",
    "                    top = top, botm = botm, laycbd = 0, itmuni=4, perlen = perlen, \n",
    "                    nstp = 1)"
   ]
  },
  {
   "cell_type": "code",
   "execution_count": 4,
   "metadata": {},
   "outputs": [],
   "source": [
    "# Output Control: Create a flopy output control object\n",
    "oc = mf.ModflowOc(mf_model)"
   ]
  },
  {
   "cell_type": "code",
   "execution_count": 5,
   "metadata": {},
   "outputs": [],
   "source": [
    "#BCF file\n",
    "laycon=0 #confined\n",
    "tran=1.0 #transmissivity\n",
    "bcf = flopy.modflow.mfbcf.ModflowBcf(mf_model,laycon=0, tran=1.0)"
   ]
  },
  {
   "cell_type": "code",
   "execution_count": 6,
   "metadata": {},
   "outputs": [
    {
     "data": {
      "text/plain": [
       "array([[[-1., -1., -1., -1., -1., -1., -1., -1., -1., -1., -1., -1.,\n",
       "         -1., -1., -1., -1., -1., -1., -1., -1., -1., -1., -1., -1.,\n",
       "         -1., -1., -1., -1., -1., -1., -1.],\n",
       "        [-1.,  1.,  1.,  1.,  1.,  1.,  1.,  1.,  1.,  1.,  1.,  1.,\n",
       "          1.,  1.,  1.,  1.,  1.,  1.,  1.,  1.,  1.,  1.,  1.,  1.,\n",
       "          1.,  1.,  1.,  1.,  1.,  1., -1.],\n",
       "        [-1.,  1.,  1.,  1.,  1.,  1.,  1.,  1.,  1.,  1.,  1.,  1.,\n",
       "          1.,  1.,  1.,  1.,  1.,  1.,  1.,  1.,  1.,  1.,  1.,  1.,\n",
       "          1.,  1.,  1.,  1.,  1.,  1., -1.],\n",
       "        [-1.,  1.,  1.,  1.,  1.,  1.,  1.,  1.,  1.,  1.,  1.,  1.,\n",
       "          1.,  1.,  1.,  1.,  1.,  1.,  1.,  1.,  1.,  1.,  1.,  1.,\n",
       "          1.,  1.,  1.,  1.,  1.,  1., -1.],\n",
       "        [-1.,  1.,  1.,  1.,  1.,  1.,  1.,  1.,  1.,  1.,  1.,  1.,\n",
       "          1.,  1.,  1.,  1.,  1.,  1.,  1.,  1.,  1.,  1.,  1.,  1.,\n",
       "          1.,  1.,  1.,  1.,  1.,  1., -1.],\n",
       "        [-1.,  1.,  1.,  1.,  1.,  1.,  1.,  1.,  1.,  1.,  1.,  1.,\n",
       "          1.,  1.,  1.,  1.,  1.,  1.,  1.,  1.,  1.,  1.,  1.,  1.,\n",
       "          1.,  1.,  1.,  1.,  1.,  1., -1.],\n",
       "        [-1.,  1.,  1.,  1.,  1.,  1.,  1.,  1.,  1.,  1.,  1.,  1.,\n",
       "          1.,  1.,  1.,  1.,  1.,  1.,  1.,  1.,  1.,  1.,  1.,  1.,\n",
       "          1.,  1.,  1.,  1.,  1.,  1., -1.],\n",
       "        [-1.,  1.,  1.,  1.,  1.,  1.,  1.,  1.,  1.,  1.,  1.,  1.,\n",
       "          1.,  1.,  1.,  1.,  1.,  1.,  1.,  1.,  1.,  1.,  1.,  1.,\n",
       "          1.,  1.,  1.,  1.,  1.,  1., -1.],\n",
       "        [-1.,  1.,  1.,  1.,  1.,  1.,  1.,  1.,  1.,  1.,  1.,  1.,\n",
       "          1.,  1.,  1.,  1.,  1.,  1.,  1.,  1.,  1.,  1.,  1.,  1.,\n",
       "          1.,  1.,  1.,  1.,  1.,  1., -1.],\n",
       "        [-1.,  1.,  1.,  1.,  1.,  1.,  1.,  1.,  1.,  1.,  1.,  1.,\n",
       "          1.,  1.,  1.,  1.,  1.,  1.,  1.,  1.,  1.,  1.,  1.,  1.,\n",
       "          1.,  1.,  1.,  1.,  1.,  1., -1.],\n",
       "        [-1.,  1.,  1.,  1.,  1.,  1.,  1.,  1.,  1.,  1.,  1.,  1.,\n",
       "          1.,  1.,  1.,  1.,  1.,  1.,  1.,  1.,  1.,  1.,  1.,  1.,\n",
       "          1.,  1.,  1.,  1.,  1.,  1., -1.],\n",
       "        [-1.,  1.,  1.,  1.,  1.,  1.,  1.,  1.,  1.,  1.,  1.,  1.,\n",
       "          1.,  1.,  1.,  1.,  1.,  1.,  1.,  1.,  1.,  1.,  1.,  1.,\n",
       "          1.,  1.,  1.,  1.,  1.,  1., -1.],\n",
       "        [-1.,  1.,  1.,  1.,  1.,  1.,  1.,  1.,  1.,  1.,  1.,  1.,\n",
       "          1.,  1.,  1.,  1.,  1.,  1.,  1.,  1.,  1.,  1.,  1.,  1.,\n",
       "          1.,  1.,  1.,  1.,  1.,  1., -1.],\n",
       "        [-1.,  1.,  1.,  1.,  1.,  1.,  1.,  1.,  1.,  1.,  1.,  1.,\n",
       "          1.,  1.,  1.,  1.,  1.,  1.,  1.,  1.,  1.,  1.,  1.,  1.,\n",
       "          1.,  1.,  1.,  1.,  1.,  1., -1.],\n",
       "        [-1.,  1.,  1.,  1.,  1.,  1.,  1.,  1.,  1.,  1.,  1.,  1.,\n",
       "          1.,  1.,  1.,  1.,  1.,  1.,  1.,  1.,  1.,  1.,  1.,  1.,\n",
       "          1.,  1.,  1.,  1.,  1.,  1., -1.],\n",
       "        [-1.,  1.,  1.,  1.,  1.,  1.,  1.,  1.,  1.,  1.,  1.,  1.,\n",
       "          1.,  1.,  1.,  1.,  1.,  1.,  1.,  1.,  1.,  1.,  1.,  1.,\n",
       "          1.,  1.,  1.,  1.,  1.,  1., -1.],\n",
       "        [-1.,  1.,  1.,  1.,  1.,  1.,  1.,  1.,  1.,  1.,  1.,  1.,\n",
       "          1.,  1.,  1.,  1.,  1.,  1.,  1.,  1.,  1.,  1.,  1.,  1.,\n",
       "          1.,  1.,  1.,  1.,  1.,  1., -1.],\n",
       "        [-1.,  1.,  1.,  1.,  1.,  1.,  1.,  1.,  1.,  1.,  1.,  1.,\n",
       "          1.,  1.,  1.,  1.,  1.,  1.,  1.,  1.,  1.,  1.,  1.,  1.,\n",
       "          1.,  1.,  1.,  1.,  1.,  1., -1.],\n",
       "        [-1.,  1.,  1.,  1.,  1.,  1.,  1.,  1.,  1.,  1.,  1.,  1.,\n",
       "          1.,  1.,  1.,  1.,  1.,  1.,  1.,  1.,  1.,  1.,  1.,  1.,\n",
       "          1.,  1.,  1.,  1.,  1.,  1., -1.],\n",
       "        [-1.,  1.,  1.,  1.,  1.,  1.,  1.,  1.,  1.,  1.,  1.,  1.,\n",
       "          1.,  1.,  1.,  1.,  1.,  1.,  1.,  1.,  1.,  1.,  1.,  1.,\n",
       "          1.,  1.,  1.,  1.,  1.,  1., -1.],\n",
       "        [-1.,  1.,  1.,  1.,  1.,  1.,  1.,  1.,  1.,  1.,  1.,  1.,\n",
       "          1.,  1.,  1.,  1.,  1.,  1.,  1.,  1.,  1.,  1.,  1.,  1.,\n",
       "          1.,  1.,  1.,  1.,  1.,  1., -1.],\n",
       "        [-1.,  1.,  1.,  1.,  1.,  1.,  1.,  1.,  1.,  1.,  1.,  1.,\n",
       "          1.,  1.,  1.,  1.,  1.,  1.,  1.,  1.,  1.,  1.,  1.,  1.,\n",
       "          1.,  1.,  1.,  1.,  1.,  1., -1.],\n",
       "        [-1.,  1.,  1.,  1.,  1.,  1.,  1.,  1.,  1.,  1.,  1.,  1.,\n",
       "          1.,  1.,  1.,  1.,  1.,  1.,  1.,  1.,  1.,  1.,  1.,  1.,\n",
       "          1.,  1.,  1.,  1.,  1.,  1., -1.],\n",
       "        [-1.,  1.,  1.,  1.,  1.,  1.,  1.,  1.,  1.,  1.,  1.,  1.,\n",
       "          1.,  1.,  1.,  1.,  1.,  1.,  1.,  1.,  1.,  1.,  1.,  1.,\n",
       "          1.,  1.,  1.,  1.,  1.,  1., -1.],\n",
       "        [-1.,  1.,  1.,  1.,  1.,  1.,  1.,  1.,  1.,  1.,  1.,  1.,\n",
       "          1.,  1.,  1.,  1.,  1.,  1.,  1.,  1.,  1.,  1.,  1.,  1.,\n",
       "          1.,  1.,  1.,  1.,  1.,  1., -1.],\n",
       "        [-1.,  1.,  1.,  1.,  1.,  1.,  1.,  1.,  1.,  1.,  1.,  1.,\n",
       "          1.,  1.,  1.,  1.,  1.,  1.,  1.,  1.,  1.,  1.,  1.,  1.,\n",
       "          1.,  1.,  1.,  1.,  1.,  1., -1.],\n",
       "        [-1.,  1.,  1.,  1.,  1.,  1.,  1.,  1.,  1.,  1.,  1.,  1.,\n",
       "          1.,  1.,  1.,  1.,  1.,  1.,  1.,  1.,  1.,  1.,  1.,  1.,\n",
       "          1.,  1.,  1.,  1.,  1.,  1., -1.],\n",
       "        [-1.,  1.,  1.,  1.,  1.,  1.,  1.,  1.,  1.,  1.,  1.,  1.,\n",
       "          1.,  1.,  1.,  1.,  1.,  1.,  1.,  1.,  1.,  1.,  1.,  1.,\n",
       "          1.,  1.,  1.,  1.,  1.,  1., -1.],\n",
       "        [-1.,  1.,  1.,  1.,  1.,  1.,  1.,  1.,  1.,  1.,  1.,  1.,\n",
       "          1.,  1.,  1.,  1.,  1.,  1.,  1.,  1.,  1.,  1.,  1.,  1.,\n",
       "          1.,  1.,  1.,  1.,  1.,  1., -1.],\n",
       "        [-1.,  1.,  1.,  1.,  1.,  1.,  1.,  1.,  1.,  1.,  1.,  1.,\n",
       "          1.,  1.,  1.,  1.,  1.,  1.,  1.,  1.,  1.,  1.,  1.,  1.,\n",
       "          1.,  1.,  1.,  1.,  1.,  1., -1.],\n",
       "        [-1., -1., -1., -1., -1., -1., -1., -1., -1., -1., -1., -1.,\n",
       "         -1., -1., -1., -1., -1., -1., -1., -1., -1., -1., -1., -1.,\n",
       "         -1., -1., -1., -1., -1., -1., -1.]]])"
      ]
     },
     "execution_count": 6,
     "metadata": {},
     "output_type": "execute_result"
    }
   ],
   "source": [
    "#BAS file\n",
    "ibound = np.ones((nlay, nrow, ncol)) #active\n",
    "ibound[0, 0, :31] = -1 #constant head\n",
    "ibound[0, 30, :31] = -1\n",
    "ibound[0, :31, 0] = -1\n",
    "ibound[0, :31, 30] = -1\n",
    "\n",
    "strt=15 #starting head\n",
    "\n",
    "ibound"
   ]
  },
  {
   "cell_type": "code",
   "execution_count": 7,
   "metadata": {},
   "outputs": [],
   "source": [
    "bas = mf.ModflowBas(mf_model, ibound = ibound, strt = strt)"
   ]
  },
  {
   "cell_type": "code",
   "execution_count": 8,
   "metadata": {},
   "outputs": [],
   "source": [
    "#PCG file\n",
    "pcg = flopy.modflow.mfpcg.ModflowPcg(mf_model, mxiter=20, iter1=30, hclose=1e-03, rclose=1e-03, relax=1.0)"
   ]
  },
  {
   "cell_type": "code",
   "execution_count": 9,
   "metadata": {},
   "outputs": [
    {
     "data": {
      "text/plain": [
       "{0: [array([ 0,  0,  0, 15, 15]),\n",
       "  array([ 0,  0,  1, 15, 15]),\n",
       "  array([ 0,  0,  2, 15, 15]),\n",
       "  array([ 0,  0,  3, 15, 15]),\n",
       "  array([ 0,  0,  4, 15, 15]),\n",
       "  array([ 0,  0,  5, 15, 15]),\n",
       "  array([ 0,  0,  6, 15, 15]),\n",
       "  array([ 0,  0,  7, 15, 15]),\n",
       "  array([ 0,  0,  8, 15, 15]),\n",
       "  array([ 0,  0,  9, 15, 15]),\n",
       "  array([ 0,  0, 10, 15, 15]),\n",
       "  array([ 0,  0, 11, 15, 15]),\n",
       "  array([ 0,  0, 12, 15, 15]),\n",
       "  array([ 0,  0, 13, 15, 15]),\n",
       "  array([ 0,  0, 14, 15, 15]),\n",
       "  array([ 0,  0, 15, 15, 15]),\n",
       "  array([ 0,  0, 16, 15, 15]),\n",
       "  array([ 0,  0, 17, 15, 15]),\n",
       "  array([ 0,  0, 18, 15, 15]),\n",
       "  array([ 0,  0, 19, 15, 15]),\n",
       "  array([ 0,  0, 20, 15, 15]),\n",
       "  array([ 0,  0, 21, 15, 15]),\n",
       "  array([ 0,  0, 22, 15, 15]),\n",
       "  array([ 0,  0, 23, 15, 15]),\n",
       "  array([ 0,  0, 24, 15, 15]),\n",
       "  array([ 0,  0, 25, 15, 15]),\n",
       "  array([ 0,  0, 26, 15, 15]),\n",
       "  array([ 0,  0, 27, 15, 15]),\n",
       "  array([ 0,  0, 28, 15, 15]),\n",
       "  array([ 0,  0, 29, 15, 15]),\n",
       "  array([ 0,  0, 30, 15, 15]),\n",
       "  array([ 0,  1, 30, 15, 15]),\n",
       "  array([ 0,  2, 30, 15, 15]),\n",
       "  array([ 0,  3, 30, 15, 15]),\n",
       "  array([ 0,  4, 30, 15, 15]),\n",
       "  array([ 0,  5, 30, 15, 15]),\n",
       "  array([ 0,  6, 30, 15, 15]),\n",
       "  array([ 0,  7, 30, 15, 15]),\n",
       "  array([ 0,  8, 30, 15, 15]),\n",
       "  array([ 0,  9, 30, 15, 15]),\n",
       "  array([ 0, 10, 30, 15, 15]),\n",
       "  array([ 0, 11, 30, 15, 15]),\n",
       "  array([ 0, 12, 30, 15, 15]),\n",
       "  array([ 0, 13, 30, 15, 15]),\n",
       "  array([ 0, 14, 30, 15, 15]),\n",
       "  array([ 0, 15, 30, 15, 15]),\n",
       "  array([ 0, 16, 30, 15, 15]),\n",
       "  array([ 0, 17, 30, 15, 15]),\n",
       "  array([ 0, 18, 30, 15, 15]),\n",
       "  array([ 0, 19, 30, 15, 15]),\n",
       "  array([ 0, 20, 30, 15, 15]),\n",
       "  array([ 0, 21, 30, 15, 15]),\n",
       "  array([ 0, 22, 30, 15, 15]),\n",
       "  array([ 0, 23, 30, 15, 15]),\n",
       "  array([ 0, 24, 30, 15, 15]),\n",
       "  array([ 0, 25, 30, 15, 15]),\n",
       "  array([ 0, 26, 30, 15, 15]),\n",
       "  array([ 0, 27, 30, 15, 15]),\n",
       "  array([ 0, 28, 30, 15, 15]),\n",
       "  array([ 0, 29, 30, 15, 15]),\n",
       "  array([ 0, 30, 30, 15, 15]),\n",
       "  array([ 0, 30,  0, 15, 15]),\n",
       "  array([ 0, 30,  1, 15, 15]),\n",
       "  array([ 0, 30,  2, 15, 15]),\n",
       "  array([ 0, 30,  3, 15, 15]),\n",
       "  array([ 0, 30,  4, 15, 15]),\n",
       "  array([ 0, 30,  5, 15, 15]),\n",
       "  array([ 0, 30,  6, 15, 15]),\n",
       "  array([ 0, 30,  7, 15, 15]),\n",
       "  array([ 0, 30,  8, 15, 15]),\n",
       "  array([ 0, 30,  9, 15, 15]),\n",
       "  array([ 0, 30, 10, 15, 15]),\n",
       "  array([ 0, 30, 11, 15, 15]),\n",
       "  array([ 0, 30, 12, 15, 15]),\n",
       "  array([ 0, 30, 13, 15, 15]),\n",
       "  array([ 0, 30, 14, 15, 15]),\n",
       "  array([ 0, 30, 15, 15, 15]),\n",
       "  array([ 0, 30, 16, 15, 15]),\n",
       "  array([ 0, 30, 17, 15, 15]),\n",
       "  array([ 0, 30, 18, 15, 15]),\n",
       "  array([ 0, 30, 19, 15, 15]),\n",
       "  array([ 0, 30, 20, 15, 15]),\n",
       "  array([ 0, 30, 21, 15, 15]),\n",
       "  array([ 0, 30, 22, 15, 15]),\n",
       "  array([ 0, 30, 23, 15, 15]),\n",
       "  array([ 0, 30, 24, 15, 15]),\n",
       "  array([ 0, 30, 25, 15, 15]),\n",
       "  array([ 0, 30, 26, 15, 15]),\n",
       "  array([ 0, 30, 27, 15, 15]),\n",
       "  array([ 0, 30, 28, 15, 15]),\n",
       "  array([ 0, 30, 29, 15, 15]),\n",
       "  array([ 0,  1,  0, 15, 15]),\n",
       "  array([ 0,  2,  0, 15, 15]),\n",
       "  array([ 0,  3,  0, 15, 15]),\n",
       "  array([ 0,  4,  0, 15, 15]),\n",
       "  array([ 0,  5,  0, 15, 15]),\n",
       "  array([ 0,  6,  0, 15, 15]),\n",
       "  array([ 0,  7,  0, 15, 15]),\n",
       "  array([ 0,  8,  0, 15, 15]),\n",
       "  array([ 0,  9,  0, 15, 15]),\n",
       "  array([ 0, 10,  0, 15, 15]),\n",
       "  array([ 0, 11,  0, 15, 15]),\n",
       "  array([ 0, 12,  0, 15, 15]),\n",
       "  array([ 0, 13,  0, 15, 15]),\n",
       "  array([ 0, 14,  0, 15, 15]),\n",
       "  array([ 0, 15,  0, 15, 15]),\n",
       "  array([ 0, 16,  0, 15, 15]),\n",
       "  array([ 0, 17,  0, 15, 15]),\n",
       "  array([ 0, 18,  0, 15, 15]),\n",
       "  array([ 0, 19,  0, 15, 15]),\n",
       "  array([ 0, 20,  0, 15, 15]),\n",
       "  array([ 0, 21,  0, 15, 15]),\n",
       "  array([ 0, 22,  0, 15, 15]),\n",
       "  array([ 0, 23,  0, 15, 15]),\n",
       "  array([ 0, 24,  0, 15, 15]),\n",
       "  array([ 0, 25,  0, 15, 15]),\n",
       "  array([ 0, 26,  0, 15, 15]),\n",
       "  array([ 0, 27,  0, 15, 15]),\n",
       "  array([ 0, 28,  0, 15, 15]),\n",
       "  array([ 0, 29,  0, 15, 15])]}"
      ]
     },
     "execution_count": 9,
     "metadata": {},
     "output_type": "execute_result"
    }
   ],
   "source": [
    "#CHD\n",
    "#[lay, row, col, shead, ehead]\n",
    "\n",
    "chd=15\n",
    "chd_data = []\n",
    "for c in range(30):\n",
    "    dd = np.array([0, 0, c, chd, chd])\n",
    "    chd_data.append(dd)\n",
    "for c in range(31):\n",
    "    dd = np.array([0, c, 30, chd, chd])\n",
    "    chd_data.append(dd)\n",
    "for c in range(30):\n",
    "    dd = np.array([0, 30, c, chd, chd])\n",
    "    chd_data.append(dd)\n",
    "for c in range(1,30):\n",
    "    dd = np.array([0, c, 0, chd, chd])\n",
    "    chd_data.append(dd)\n",
    "stress_period_data = {0:chd_data}\n",
    "\n",
    "stress_period_data"
   ]
  },
  {
   "cell_type": "code",
   "execution_count": 10,
   "metadata": {},
   "outputs": [],
   "source": [
    "chd = mf.mfchd.ModflowChd(mf_model, stress_period_data=stress_period_data)"
   ]
  },
  {
   "cell_type": "code",
   "execution_count": 11,
   "metadata": {},
   "outputs": [],
   "source": [
    "#WELL\n",
    "#[lay, row, col, pumping rate]\n",
    "\n",
    "pumping_rate = 100 #m3/d\n",
    "wel_sp1 = [[0, 15, 15, pumping_rate]]\n",
    "stress_period_data = {0: wel_sp1}\n",
    "\n",
    "wel = flopy.modflow.ModflowWel(mf_model, stress_period_data=stress_period_data)"
   ]
  },
  {
   "cell_type": "code",
   "execution_count": 12,
   "metadata": {},
   "outputs": [],
   "source": [
    "#LMT Linkage with MT3DMS for multi-species mass transport modeling\n",
    "lmt = flopy.modflow.ModflowLmt(mf_model, output_file_name='mt3d_link.ftl')"
   ]
  },
  {
   "cell_type": "code",
   "execution_count": 13,
   "metadata": {},
   "outputs": [
    {
     "ename": "Exception",
     "evalue": "The program mf2005.exe does not exist or is not executable.",
     "output_type": "error",
     "traceback": [
      "\u001b[1;31m---------------------------------------------------------------------------\u001b[0m",
      "\u001b[1;31mException\u001b[0m                                 Traceback (most recent call last)",
      "\u001b[1;32m<ipython-input-13-aea71e44a04d>\u001b[0m in \u001b[0;36m<module>\u001b[1;34m\u001b[0m\n\u001b[0;32m      3\u001b[0m \u001b[1;33m\u001b[0m\u001b[0m\n\u001b[0;32m      4\u001b[0m \u001b[1;31m# run the model\u001b[0m\u001b[1;33m\u001b[0m\u001b[1;33m\u001b[0m\u001b[1;33m\u001b[0m\u001b[0m\n\u001b[1;32m----> 5\u001b[1;33m \u001b[0mmf_model\u001b[0m\u001b[1;33m.\u001b[0m\u001b[0mrun_model\u001b[0m\u001b[1;33m(\u001b[0m\u001b[1;33m)\u001b[0m\u001b[1;33m\u001b[0m\u001b[1;33m\u001b[0m\u001b[0m\n\u001b[0m",
      "\u001b[1;32m~\\.conda\\envs\\GIS\\lib\\site-packages\\flopy\\mbase.py\u001b[0m in \u001b[0;36mrun_model\u001b[1;34m(self, silent, pause, report, normal_msg)\u001b[0m\n\u001b[0;32m   1380\u001b[0m         \"\"\"\n\u001b[0;32m   1381\u001b[0m \u001b[1;33m\u001b[0m\u001b[0m\n\u001b[1;32m-> 1382\u001b[1;33m         return run_model(\n\u001b[0m\u001b[0;32m   1383\u001b[0m             \u001b[0mself\u001b[0m\u001b[1;33m.\u001b[0m\u001b[0mexe_name\u001b[0m\u001b[1;33m,\u001b[0m\u001b[1;33m\u001b[0m\u001b[1;33m\u001b[0m\u001b[0m\n\u001b[0;32m   1384\u001b[0m             \u001b[0mself\u001b[0m\u001b[1;33m.\u001b[0m\u001b[0mnamefile\u001b[0m\u001b[1;33m,\u001b[0m\u001b[1;33m\u001b[0m\u001b[1;33m\u001b[0m\u001b[0m\n",
      "\u001b[1;32m~\\.conda\\envs\\GIS\\lib\\site-packages\\flopy\\mbase.py\u001b[0m in \u001b[0;36mrun_model\u001b[1;34m(exe_name, namefile, model_ws, silent, pause, report, normal_msg, use_async, cargs)\u001b[0m\n\u001b[0;32m   1719\u001b[0m             \u001b[0mexe_name\u001b[0m\u001b[1;33m\u001b[0m\u001b[1;33m\u001b[0m\u001b[0m\n\u001b[0;32m   1720\u001b[0m         )\n\u001b[1;32m-> 1721\u001b[1;33m         \u001b[1;32mraise\u001b[0m \u001b[0mException\u001b[0m\u001b[1;33m(\u001b[0m\u001b[0ms\u001b[0m\u001b[1;33m)\u001b[0m\u001b[1;33m\u001b[0m\u001b[1;33m\u001b[0m\u001b[0m\n\u001b[0m\u001b[0;32m   1722\u001b[0m     \u001b[1;32melse\u001b[0m\u001b[1;33m:\u001b[0m\u001b[1;33m\u001b[0m\u001b[1;33m\u001b[0m\u001b[0m\n\u001b[0;32m   1723\u001b[0m         \u001b[1;32mif\u001b[0m \u001b[1;32mnot\u001b[0m \u001b[0msilent\u001b[0m\u001b[1;33m:\u001b[0m\u001b[1;33m\u001b[0m\u001b[1;33m\u001b[0m\u001b[0m\n",
      "\u001b[1;31mException\u001b[0m: The program mf2005.exe does not exist or is not executable."
     ]
    }
   ],
   "source": [
    "#Write input files\n",
    "mf_model.write_input()\n",
    "\n",
    "# run the model\n",
    "mf_model.run_model()"
   ]
  },
  {
   "cell_type": "code",
   "execution_count": null,
   "metadata": {},
   "outputs": [],
   "source": [
    "#Plot model results\n",
    "import matplotlib.pyplot as plt\n",
    "import flopy.utils.binaryfile as bf\n",
    "\n",
    "# Create the headfile object\n",
    "headobj = bf.HeadFile(modelname+'.hds')\n",
    "head = headobj.get_data(totim=27)\n",
    "times = headobj.get_times()\n",
    "\n",
    "# Setup contour parameters\n",
    "levels = np.arange(0, 90, 5)\n",
    "extent = (delr/2., Lx - delr/2., delc/2., Ly - delc/2.)\n",
    "\n",
    "# Make the plots\n",
    "plt.subplot(1, 1, 1, aspect='equal')\n",
    "plt.title('Head distribution (m)')\n",
    "plt.imshow(head[0, :, :], extent=extent, cmap='YlGnBu', vmin=0., vmax=90.)\n",
    "plt.colorbar()\n",
    "\n",
    "contours = plt.contour(np.flipud(head[0, :, :]), levels=levels, extent=extent, zorder=10)\n",
    "plt.clabel(contours, inline=1, fontsize=10, fmt='%d', zorder=11)\n",
    "\n",
    "plt.show()"
   ]
  },
  {
   "cell_type": "code",
   "execution_count": null,
   "metadata": {},
   "outputs": [],
   "source": [
    "#MT3D-USGS\n",
    "namemt3d='modelnamemt3d'\n",
    "mt_model = mt.Mt3dms(modelname=namemt3d, version='mt3d-usgs', exe_name='MT3D-USGS_64.exe', modflowmodel=mf_model)"
   ]
  },
  {
   "cell_type": "code",
   "execution_count": null,
   "metadata": {},
   "outputs": [],
   "source": [
    "#BTN file\n",
    "icbund = np.ones((nlay, nrow, ncol))\n",
    "icbund[0, 15, 15] = -1 #constant concentration\n",
    "\n",
    "btn = flopy.mt3d.Mt3dBtn(mt_model, sconc=0.0, prsity=0.3, thkmin=0.01, munit='g', icbund=icbund)"
   ]
  },
  {
   "cell_type": "code",
   "execution_count": null,
   "metadata": {},
   "outputs": [],
   "source": [
    "#ADV file\n",
    "mixelm = -1 #Third-order TVD scheme (ULTIMATE)\n",
    "percel = 1 #Courant number PERCEL is also a stability constraint\n",
    "adv = flopy.mt3d.Mt3dAdv(mt_model, mixelm=mixelm, percel=percel)"
   ]
  },
  {
   "cell_type": "code",
   "execution_count": null,
   "metadata": {},
   "outputs": [],
   "source": [
    "#GCG file\n",
    "mxiter = 1 #Maximum number of outer iterations\n",
    "iter1 = 200 #Maximum number of inner iterations\n",
    "isolve = 3 #Preconditioner = Modified Incomplete Cholesky\n",
    "gcg = flopy.mt3d.Mt3dGcg(mt_model, mxiter=mxiter, iter1=iter1, isolve=isolve)"
   ]
  },
  {
   "cell_type": "code",
   "execution_count": null,
   "metadata": {},
   "outputs": [],
   "source": [
    "#DSP file\n",
    "al = 10 #longitudinal dispersivity\n",
    "dmcoef = 0 #effective molecular diffusion coefficient\n",
    "trpt = 0.1 #ratio of the horizontal transverse dispersivity to the longitudinal dispersivity\n",
    "trpv = 0.01 #ratio of the vertical transverse dispersivity to the longitudinal dispersivity\n",
    "\n",
    "dsp = mt.Mt3dDsp(mt_model, al=al, dmcoef=dmcoef, trpt=trpt, trpv=trpv)"
   ]
  },
  {
   "cell_type": "code",
   "execution_count": null,
   "metadata": {},
   "outputs": [],
   "source": [
    "#SSM file\n",
    "itype = flopy.mt3d.Mt3dSsm.itype_dict()\n",
    "\n",
    "#[K,I,J,CSS,iSSType] = layer, row, column, source concentration, type of sink/source: well-constant concentration cell \n",
    "ssm_data = {}\n",
    "ssm_data[0] = [(0, 15, 15, 1.0, 2)]\n",
    "ssm_data[0].append((0, 15, 15, 1.0, -1))\n",
    "\n",
    "ssm = flopy.mt3d.Mt3dSsm(mt_model, stress_period_data=ssm_data)"
   ]
  },
  {
   "cell_type": "code",
   "execution_count": null,
   "metadata": {},
   "outputs": [],
   "source": [
    "#Write model input\n",
    "mt_model.write_input()\n",
    "\n",
    "#Run the model\n",
    "mt_model.run_model()"
   ]
  },
  {
   "cell_type": "code",
   "execution_count": null,
   "metadata": {},
   "outputs": [],
   "source": [
    "#Plot concentration results\n",
    "conc = fu.UcnFile('MT3D001.UCN')\n",
    "conc.plot(totim=times[-1], colorbar='Concentration (mg/l)', cmap='Blues')\n",
    "plt.title('Concentration distribution (mg/l)')\n",
    "plt.show()"
   ]
  }
 ],
 "metadata": {
  "kernelspec": {
   "display_name": "Python 3",
   "language": "python",
   "name": "python3"
  },
  "language_info": {
   "codemirror_mode": {
    "name": "ipython",
    "version": 3
   },
   "file_extension": ".py",
   "mimetype": "text/x-python",
   "name": "python",
   "nbconvert_exporter": "python",
   "pygments_lexer": "ipython3",
   "version": "3.8.5"
  }
 },
 "nbformat": 4,
 "nbformat_minor": 4
}
