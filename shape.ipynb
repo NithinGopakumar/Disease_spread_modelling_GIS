{
 "cells": [
  {
   "cell_type": "code",
   "execution_count": 1,
   "metadata": {},
   "outputs": [],
   "source": [
    "import pandas as pd\n",
    "from shapely.geometry import Point\n",
    "from shapely.geometry import LineString\n",
    "import geopandas as gpd\n",
    "from pyproj import CRS\n",
    "import mplleaflet\n",
    "import matplotlib.pyplot as plt\n",
    "from IPython.display import IFrame\n",
    "%matplotlib inline\n",
    "import subprocess\n",
    "from polycircles import polycircles\n",
    "import simplekml"
   ]
  },
  {
   "cell_type": "code",
   "execution_count": 4,
   "metadata": {},
   "outputs": [
    {
     "name": "stdout",
     "output_type": "stream",
     "text": [
      "Collecting pyshp\n",
      "  Downloading pyshp-2.1.3.tar.gz (219 kB)\n",
      "Building wheels for collected packages: pyshp\n",
      "  Building wheel for pyshp (setup.py): started\n",
      "  Building wheel for pyshp (setup.py): finished with status 'done'\n",
      "  Created wheel for pyshp: filename=pyshp-2.1.3-py3-none-any.whl size=37263 sha256=1bf613272866580c9912b387771302335c53c7e5e23c46f68fc79d3235246d08\n",
      "  Stored in directory: c:\\users\\nithi\\appdata\\local\\pip\\cache\\wheels\\1f\\1b\\b5\\54affbefc8a7e2bdf1da000fc576b8a1c91338f1f327a04f4c\n",
      "Successfully built pyshp\n",
      "Installing collected packages: pyshp\n",
      "Successfully installed pyshp-2.1.3\n"
     ]
    }
   ],
   "source": [
    "!pip install pyshp"
   ]
  },
  {
   "cell_type": "code",
   "execution_count": 2,
   "metadata": {},
   "outputs": [],
   "source": [
    "df = pd.read_csv('tbl_data.csv')"
   ]
  },
  {
   "cell_type": "code",
   "execution_count": 3,
   "metadata": {},
   "outputs": [
    {
     "data": {
      "text/html": [
       "<div>\n",
       "<style scoped>\n",
       "    .dataframe tbody tr th:only-of-type {\n",
       "        vertical-align: middle;\n",
       "    }\n",
       "\n",
       "    .dataframe tbody tr th {\n",
       "        vertical-align: top;\n",
       "    }\n",
       "\n",
       "    .dataframe thead th {\n",
       "        text-align: right;\n",
       "    }\n",
       "</style>\n",
       "<table border=\"1\" class=\"dataframe\">\n",
       "  <thead>\n",
       "    <tr style=\"text-align: right;\">\n",
       "      <th></th>\n",
       "      <th>ogc_fid</th>\n",
       "      <th>wkb_geomet</th>\n",
       "      <th>f_id</th>\n",
       "      <th>lattitude</th>\n",
       "      <th>longitude</th>\n",
       "      <th>name</th>\n",
       "      <th>address</th>\n",
       "      <th>date</th>\n",
       "      <th>time</th>\n",
       "      <th>imei</th>\n",
       "      <th>uploaded</th>\n",
       "      <th>geom1</th>\n",
       "      <th>geom</th>\n",
       "      <th>photo</th>\n",
       "      <th>geom5</th>\n",
       "      <th>p_id</th>\n",
       "      <th>d_id</th>\n",
       "      <th>accuracy</th>\n",
       "      <th>is_farmer</th>\n",
       "    </tr>\n",
       "  </thead>\n",
       "  <tbody>\n",
       "    <tr>\n",
       "      <th>170</th>\n",
       "      <td>493590</td>\n",
       "      <td>NaN</td>\n",
       "      <td>1203857</td>\n",
       "      <td>10.037442</td>\n",
       "      <td>76.995556</td>\n",
       "      <td>appukkuttan</td>\n",
       "      <td>palamadam estate</td>\n",
       "      <td>2019-08-22</td>\n",
       "      <td>11:06 AM</td>\n",
       "      <td>865501037890101</td>\n",
       "      <td>3702</td>\n",
       "      <td>NaN</td>\n",
       "      <td>NaN</td>\n",
       "      <td>1203857.jpg</td>\n",
       "      <td>NaN</td>\n",
       "      <td>180</td>\n",
       "      <td>6</td>\n",
       "      <td>5.36 m</td>\n",
       "      <td>True</td>\n",
       "    </tr>\n",
       "    <tr>\n",
       "      <th>292</th>\n",
       "      <td>495347</td>\n",
       "      <td>NaN</td>\n",
       "      <td>496282</td>\n",
       "      <td>10.124507</td>\n",
       "      <td>76.921632</td>\n",
       "      <td>MARY  BABY</td>\n",
       "      <td>PLACKAL  MANKULAM.P.O.</td>\n",
       "      <td>2020-06-08</td>\n",
       "      <td>12:03 PM</td>\n",
       "      <td>359270081251387</td>\n",
       "      <td>1743</td>\n",
       "      <td>NaN</td>\n",
       "      <td>NaN</td>\n",
       "      <td>496282.jpg</td>\n",
       "      <td>NaN</td>\n",
       "      <td>183</td>\n",
       "      <td>6</td>\n",
       "      <td>7.8 m</td>\n",
       "      <td>True</td>\n",
       "    </tr>\n",
       "    <tr>\n",
       "      <th>379</th>\n",
       "      <td>497156</td>\n",
       "      <td>NaN</td>\n",
       "      <td>1206800</td>\n",
       "      <td>10.003381</td>\n",
       "      <td>77.088052</td>\n",
       "      <td>Francis A D</td>\n",
       "      <td>Attakkarayil, Pottankadu, Pottankadu, Baisonva...</td>\n",
       "      <td>2020-06-25</td>\n",
       "      <td>11:52 AM</td>\n",
       "      <td>0</td>\n",
       "      <td>3681</td>\n",
       "      <td>NaN</td>\n",
       "      <td>NaN</td>\n",
       "      <td>1206800.jpg</td>\n",
       "      <td>NaN</td>\n",
       "      <td>178</td>\n",
       "      <td>6</td>\n",
       "      <td>10.6189995 m</td>\n",
       "      <td>True</td>\n",
       "    </tr>\n",
       "    <tr>\n",
       "      <th>367</th>\n",
       "      <td>496986</td>\n",
       "      <td>NaN</td>\n",
       "      <td>1206663</td>\n",
       "      <td>9.996558</td>\n",
       "      <td>76.781103</td>\n",
       "      <td>Sini S Kumar</td>\n",
       "      <td>puthenpurackal h vannappuram</td>\n",
       "      <td>2020-06-24</td>\n",
       "      <td>09:43 AM</td>\n",
       "      <td>0</td>\n",
       "      <td>1278</td>\n",
       "      <td>NaN</td>\n",
       "      <td>NaN</td>\n",
       "      <td>1206663.jpg</td>\n",
       "      <td>NaN</td>\n",
       "      <td>195</td>\n",
       "      <td>6</td>\n",
       "      <td>2.4 m</td>\n",
       "      <td>True</td>\n",
       "    </tr>\n",
       "    <tr>\n",
       "      <th>332</th>\n",
       "      <td>496587</td>\n",
       "      <td>NaN</td>\n",
       "      <td>1206324</td>\n",
       "      <td>10.237556</td>\n",
       "      <td>77.142536</td>\n",
       "      <td>Sr Lisbath</td>\n",
       "      <td>Michaelgiri</td>\n",
       "      <td>2019-08-06</td>\n",
       "      <td>01:02 PM</td>\n",
       "      <td>0</td>\n",
       "      <td>2066</td>\n",
       "      <td>NaN</td>\n",
       "      <td>NaN</td>\n",
       "      <td>1206324.jpg</td>\n",
       "      <td>NaN</td>\n",
       "      <td>181</td>\n",
       "      <td>6</td>\n",
       "      <td>6.0 m</td>\n",
       "      <td>True</td>\n",
       "    </tr>\n",
       "    <tr>\n",
       "      <th>45</th>\n",
       "      <td>492150</td>\n",
       "      <td>NaN</td>\n",
       "      <td>1202561</td>\n",
       "      <td>9.852243</td>\n",
       "      <td>76.955162</td>\n",
       "      <td>MARY MARCKOSE</td>\n",
       "      <td>CHATHANAD, KOCHU PAINAVU, Idukki (part), Idukk...</td>\n",
       "      <td>2020-03-06</td>\n",
       "      <td>01:29 PM</td>\n",
       "      <td>861663032245550</td>\n",
       "      <td>1447</td>\n",
       "      <td>NaN</td>\n",
       "      <td>NaN</td>\n",
       "      <td>1202561.jpg</td>\n",
       "      <td>NaN</td>\n",
       "      <td>206</td>\n",
       "      <td>6</td>\n",
       "      <td>3.0 m</td>\n",
       "      <td>True</td>\n",
       "    </tr>\n",
       "    <tr>\n",
       "      <th>18</th>\n",
       "      <td>491943</td>\n",
       "      <td>NaN</td>\n",
       "      <td>1202354</td>\n",
       "      <td>9.980543</td>\n",
       "      <td>76.756983</td>\n",
       "      <td>Mathew T Jacob</td>\n",
       "      <td>THELLIYANKAL, THENNATHUR, Kodikulam, Idukki, K...</td>\n",
       "      <td>2020-03-05</td>\n",
       "      <td>02:52 PM</td>\n",
       "      <td>861663032247846</td>\n",
       "      <td>3691</td>\n",
       "      <td>NaN</td>\n",
       "      <td>NaN</td>\n",
       "      <td>1202354.jpg</td>\n",
       "      <td>NaN</td>\n",
       "      <td>197</td>\n",
       "      <td>6</td>\n",
       "      <td>6.0 m</td>\n",
       "      <td>True</td>\n",
       "    </tr>\n",
       "    <tr>\n",
       "      <th>26</th>\n",
       "      <td>492003</td>\n",
       "      <td>NaN</td>\n",
       "      <td>1202414</td>\n",
       "      <td>9.664898</td>\n",
       "      <td>77.180480</td>\n",
       "      <td>Daisamma Joy</td>\n",
       "      <td>Orathel, Anakkara, Idukki, Kerala, 685512</td>\n",
       "      <td>2020-03-05</td>\n",
       "      <td>06:00 PM</td>\n",
       "      <td>868682042545653</td>\n",
       "      <td>8054</td>\n",
       "      <td>NaN</td>\n",
       "      <td>NaN</td>\n",
       "      <td>1202414.jpg</td>\n",
       "      <td>NaN</td>\n",
       "      <td>214</td>\n",
       "      <td>6</td>\n",
       "      <td>2.6 m</td>\n",
       "      <td>True</td>\n",
       "    </tr>\n",
       "    <tr>\n",
       "      <th>194</th>\n",
       "      <td>493849</td>\n",
       "      <td>NaN</td>\n",
       "      <td>1204039</td>\n",
       "      <td>10.011138</td>\n",
       "      <td>76.813762</td>\n",
       "      <td>OMANA PEETHAMBARAN</td>\n",
       "      <td>CHARTIYAMPURATH, VELLAKAYAM, Vannapuram, Idukk...</td>\n",
       "      <td>2020-04-20</td>\n",
       "      <td>11:30 AM</td>\n",
       "      <td>0</td>\n",
       "      <td>3702</td>\n",
       "      <td>NaN</td>\n",
       "      <td>NaN</td>\n",
       "      <td>1204039.jpg</td>\n",
       "      <td>NaN</td>\n",
       "      <td>195</td>\n",
       "      <td>6</td>\n",
       "      <td>3.216 m</td>\n",
       "      <td>True</td>\n",
       "    </tr>\n",
       "    <tr>\n",
       "      <th>239</th>\n",
       "      <td>494248</td>\n",
       "      <td>NaN</td>\n",
       "      <td>1204390</td>\n",
       "      <td>9.808720</td>\n",
       "      <td>77.114656</td>\n",
       "      <td>Mercy</td>\n",
       "      <td>Nelpurackal, Kalkoonthal, Idukki, Kerala, 685553</td>\n",
       "      <td>2020-05-13</td>\n",
       "      <td>12:47 pm</td>\n",
       "      <td>0</td>\n",
       "      <td>1289</td>\n",
       "      <td>NaN</td>\n",
       "      <td>NaN</td>\n",
       "      <td>1204390.jpg</td>\n",
       "      <td>NaN</td>\n",
       "      <td>212</td>\n",
       "      <td>6</td>\n",
       "      <td>3.7900925 m</td>\n",
       "      <td>True</td>\n",
       "    </tr>\n",
       "  </tbody>\n",
       "</table>\n",
       "</div>"
      ],
      "text/plain": [
       "     ogc_fid  wkb_geomet     f_id  lattitude  longitude                name  \\\n",
       "170   493590         NaN  1203857  10.037442  76.995556         appukkuttan   \n",
       "292   495347         NaN   496282  10.124507  76.921632          MARY  BABY   \n",
       "379   497156         NaN  1206800  10.003381  77.088052         Francis A D   \n",
       "367   496986         NaN  1206663   9.996558  76.781103        Sini S Kumar   \n",
       "332   496587         NaN  1206324  10.237556  77.142536          Sr Lisbath   \n",
       "45    492150         NaN  1202561   9.852243  76.955162       MARY MARCKOSE   \n",
       "18    491943         NaN  1202354   9.980543  76.756983      Mathew T Jacob   \n",
       "26    492003         NaN  1202414   9.664898  77.180480        Daisamma Joy   \n",
       "194   493849         NaN  1204039  10.011138  76.813762  OMANA PEETHAMBARAN   \n",
       "239   494248         NaN  1204390   9.808720  77.114656               Mercy   \n",
       "\n",
       "                                               address        date      time  \\\n",
       "170                                   palamadam estate  2019-08-22  11:06 AM   \n",
       "292                             PLACKAL  MANKULAM.P.O.  2020-06-08  12:03 PM   \n",
       "379  Attakkarayil, Pottankadu, Pottankadu, Baisonva...  2020-06-25  11:52 AM   \n",
       "367                       puthenpurackal h vannappuram  2020-06-24  09:43 AM   \n",
       "332                                        Michaelgiri  2019-08-06  01:02 PM   \n",
       "45   CHATHANAD, KOCHU PAINAVU, Idukki (part), Idukk...  2020-03-06  01:29 PM   \n",
       "18   THELLIYANKAL, THENNATHUR, Kodikulam, Idukki, K...  2020-03-05  02:52 PM   \n",
       "26           Orathel, Anakkara, Idukki, Kerala, 685512  2020-03-05  06:00 PM   \n",
       "194  CHARTIYAMPURATH, VELLAKAYAM, Vannapuram, Idukk...  2020-04-20  11:30 AM   \n",
       "239   Nelpurackal, Kalkoonthal, Idukki, Kerala, 685553  2020-05-13  12:47 pm   \n",
       "\n",
       "                imei  uploaded geom1 geom        photo  geom5  p_id  d_id  \\\n",
       "170  865501037890101      3702   NaN  NaN  1203857.jpg    NaN   180     6   \n",
       "292  359270081251387      1743   NaN  NaN   496282.jpg    NaN   183     6   \n",
       "379                0      3681   NaN  NaN  1206800.jpg    NaN   178     6   \n",
       "367                0      1278   NaN  NaN  1206663.jpg    NaN   195     6   \n",
       "332                0      2066   NaN  NaN  1206324.jpg    NaN   181     6   \n",
       "45   861663032245550      1447   NaN  NaN  1202561.jpg    NaN   206     6   \n",
       "18   861663032247846      3691   NaN  NaN  1202354.jpg    NaN   197     6   \n",
       "26   868682042545653      8054   NaN  NaN  1202414.jpg    NaN   214     6   \n",
       "194                0      3702   NaN  NaN  1204039.jpg    NaN   195     6   \n",
       "239                0      1289   NaN  NaN  1204390.jpg    NaN   212     6   \n",
       "\n",
       "         accuracy is_farmer  \n",
       "170        5.36 m      True  \n",
       "292         7.8 m      True  \n",
       "379  10.6189995 m      True  \n",
       "367         2.4 m      True  \n",
       "332         6.0 m      True  \n",
       "45          3.0 m      True  \n",
       "18          6.0 m      True  \n",
       "26          2.6 m      True  \n",
       "194       3.216 m      True  \n",
       "239   3.7900925 m      True  "
      ]
     },
     "execution_count": 3,
     "metadata": {},
     "output_type": "execute_result"
    }
   ],
   "source": [
    "df.sample(10)"
   ]
  },
  {
   "cell_type": "code",
   "execution_count": 4,
   "metadata": {},
   "outputs": [],
   "source": [
    "df1 = df[['lattitude','longitude']]"
   ]
  },
  {
   "cell_type": "code",
   "execution_count": 5,
   "metadata": {},
   "outputs": [
    {
     "data": {
      "text/html": [
       "<div>\n",
       "<style scoped>\n",
       "    .dataframe tbody tr th:only-of-type {\n",
       "        vertical-align: middle;\n",
       "    }\n",
       "\n",
       "    .dataframe tbody tr th {\n",
       "        vertical-align: top;\n",
       "    }\n",
       "\n",
       "    .dataframe thead th {\n",
       "        text-align: right;\n",
       "    }\n",
       "</style>\n",
       "<table border=\"1\" class=\"dataframe\">\n",
       "  <thead>\n",
       "    <tr style=\"text-align: right;\">\n",
       "      <th></th>\n",
       "      <th>lattitude</th>\n",
       "      <th>longitude</th>\n",
       "    </tr>\n",
       "  </thead>\n",
       "  <tbody>\n",
       "    <tr>\n",
       "      <th>0</th>\n",
       "      <td>9.949913</td>\n",
       "      <td>77.181886</td>\n",
       "    </tr>\n",
       "    <tr>\n",
       "      <th>1</th>\n",
       "      <td>9.934441</td>\n",
       "      <td>77.177306</td>\n",
       "    </tr>\n",
       "    <tr>\n",
       "      <th>2</th>\n",
       "      <td>9.937145</td>\n",
       "      <td>77.171517</td>\n",
       "    </tr>\n",
       "    <tr>\n",
       "      <th>3</th>\n",
       "      <td>9.953722</td>\n",
       "      <td>77.155266</td>\n",
       "    </tr>\n",
       "    <tr>\n",
       "      <th>4</th>\n",
       "      <td>9.950594</td>\n",
       "      <td>77.156719</td>\n",
       "    </tr>\n",
       "    <tr>\n",
       "      <th>...</th>\n",
       "      <td>...</td>\n",
       "      <td>...</td>\n",
       "    </tr>\n",
       "    <tr>\n",
       "      <th>495</th>\n",
       "      <td>9.906259</td>\n",
       "      <td>76.807769</td>\n",
       "    </tr>\n",
       "    <tr>\n",
       "      <th>496</th>\n",
       "      <td>9.850896</td>\n",
       "      <td>77.054695</td>\n",
       "    </tr>\n",
       "    <tr>\n",
       "      <th>497</th>\n",
       "      <td>9.976896</td>\n",
       "      <td>76.712790</td>\n",
       "    </tr>\n",
       "    <tr>\n",
       "      <th>498</th>\n",
       "      <td>9.852816</td>\n",
       "      <td>77.055480</td>\n",
       "    </tr>\n",
       "    <tr>\n",
       "      <th>499</th>\n",
       "      <td>10.040078</td>\n",
       "      <td>76.812778</td>\n",
       "    </tr>\n",
       "  </tbody>\n",
       "</table>\n",
       "<p>500 rows × 2 columns</p>\n",
       "</div>"
      ],
      "text/plain": [
       "     lattitude  longitude\n",
       "0     9.949913  77.181886\n",
       "1     9.934441  77.177306\n",
       "2     9.937145  77.171517\n",
       "3     9.953722  77.155266\n",
       "4     9.950594  77.156719\n",
       "..         ...        ...\n",
       "495   9.906259  76.807769\n",
       "496   9.850896  77.054695\n",
       "497   9.976896  76.712790\n",
       "498   9.852816  77.055480\n",
       "499  10.040078  76.812778\n",
       "\n",
       "[500 rows x 2 columns]"
      ]
     },
     "execution_count": 5,
     "metadata": {},
     "output_type": "execute_result"
    }
   ],
   "source": [
    "df1"
   ]
  },
  {
   "cell_type": "code",
   "execution_count": 6,
   "metadata": {},
   "outputs": [],
   "source": [
    "geometry = [Point(xy) for xy in zip(df1['longitude'] , df1['lattitude'])]\n",
    "\n",
    "# crs = {'init': 'epsg:4326'}\n",
    "crs = CRS('epsg:4326')\n",
    "\n",
    "gdf = gpd.GeoDataFrame(df1 , crs=crs , geometry=geometry)"
   ]
  },
  {
   "cell_type": "code",
   "execution_count": 7,
   "metadata": {},
   "outputs": [
    {
     "data": {
      "text/html": [
       "<div>\n",
       "<style scoped>\n",
       "    .dataframe tbody tr th:only-of-type {\n",
       "        vertical-align: middle;\n",
       "    }\n",
       "\n",
       "    .dataframe tbody tr th {\n",
       "        vertical-align: top;\n",
       "    }\n",
       "\n",
       "    .dataframe thead th {\n",
       "        text-align: right;\n",
       "    }\n",
       "</style>\n",
       "<table border=\"1\" class=\"dataframe\">\n",
       "  <thead>\n",
       "    <tr style=\"text-align: right;\">\n",
       "      <th></th>\n",
       "      <th>lattitude</th>\n",
       "      <th>longitude</th>\n",
       "      <th>geometry</th>\n",
       "    </tr>\n",
       "  </thead>\n",
       "  <tbody>\n",
       "    <tr>\n",
       "      <th>0</th>\n",
       "      <td>9.949913</td>\n",
       "      <td>77.181886</td>\n",
       "      <td>POINT (77.18189 9.94991)</td>\n",
       "    </tr>\n",
       "    <tr>\n",
       "      <th>1</th>\n",
       "      <td>9.934441</td>\n",
       "      <td>77.177306</td>\n",
       "      <td>POINT (77.17731 9.93444)</td>\n",
       "    </tr>\n",
       "    <tr>\n",
       "      <th>2</th>\n",
       "      <td>9.937145</td>\n",
       "      <td>77.171517</td>\n",
       "      <td>POINT (77.17152 9.93715)</td>\n",
       "    </tr>\n",
       "    <tr>\n",
       "      <th>3</th>\n",
       "      <td>9.953722</td>\n",
       "      <td>77.155266</td>\n",
       "      <td>POINT (77.15527 9.95372)</td>\n",
       "    </tr>\n",
       "    <tr>\n",
       "      <th>4</th>\n",
       "      <td>9.950594</td>\n",
       "      <td>77.156719</td>\n",
       "      <td>POINT (77.15672 9.95059)</td>\n",
       "    </tr>\n",
       "  </tbody>\n",
       "</table>\n",
       "</div>"
      ],
      "text/plain": [
       "   lattitude  longitude                  geometry\n",
       "0   9.949913  77.181886  POINT (77.18189 9.94991)\n",
       "1   9.934441  77.177306  POINT (77.17731 9.93444)\n",
       "2   9.937145  77.171517  POINT (77.17152 9.93715)\n",
       "3   9.953722  77.155266  POINT (77.15527 9.95372)\n",
       "4   9.950594  77.156719  POINT (77.15672 9.95059)"
      ]
     },
     "execution_count": 7,
     "metadata": {},
     "output_type": "execute_result"
    }
   ],
   "source": [
    "gdf.head()"
   ]
  },
  {
   "cell_type": "code",
   "execution_count": 8,
   "metadata": {},
   "outputs": [
    {
     "data": {
      "text/plain": [
       "<AxesSubplot:>"
      ]
     },
     "execution_count": 8,
     "metadata": {},
     "output_type": "execute_result"
    },
    {
     "data": {
      "image/png": "[encoded data removed]",
      "text/plain": [
       "<Figure size 432x288 with 1 Axes>"
      ]
     },
     "metadata": {
      "needs_background": "light"
     },
     "output_type": "display_data"
    }
   ],
   "source": [
    "gdf.plot(marker='o', color='b', markersize=0.5)"
   ]
  },
  {
   "cell_type": "code",
   "execution_count": 9,
   "metadata": {},
   "outputs": [
    {
     "data": {
      "text/html": [
       "<div>\n",
       "<style scoped>\n",
       "    .dataframe tbody tr th:only-of-type {\n",
       "        vertical-align: middle;\n",
       "    }\n",
       "\n",
       "    .dataframe tbody tr th {\n",
       "        vertical-align: top;\n",
       "    }\n",
       "\n",
       "    .dataframe thead th {\n",
       "        text-align: right;\n",
       "    }\n",
       "</style>\n",
       "<table border=\"1\" class=\"dataframe\">\n",
       "  <thead>\n",
       "    <tr style=\"text-align: right;\">\n",
       "      <th></th>\n",
       "      <th>lattitude</th>\n",
       "      <th>longitude</th>\n",
       "      <th>geometry</th>\n",
       "    </tr>\n",
       "  </thead>\n",
       "  <tbody>\n",
       "    <tr>\n",
       "      <th>0</th>\n",
       "      <td>9.949913</td>\n",
       "      <td>77.181886</td>\n",
       "      <td>POINT (77.18189 9.94991)</td>\n",
       "    </tr>\n",
       "    <tr>\n",
       "      <th>1</th>\n",
       "      <td>9.934441</td>\n",
       "      <td>77.177306</td>\n",
       "      <td>POINT (77.17731 9.93444)</td>\n",
       "    </tr>\n",
       "    <tr>\n",
       "      <th>2</th>\n",
       "      <td>9.937145</td>\n",
       "      <td>77.171517</td>\n",
       "      <td>POINT (77.17152 9.93715)</td>\n",
       "    </tr>\n",
       "    <tr>\n",
       "      <th>3</th>\n",
       "      <td>9.953722</td>\n",
       "      <td>77.155266</td>\n",
       "      <td>POINT (77.15527 9.95372)</td>\n",
       "    </tr>\n",
       "    <tr>\n",
       "      <th>4</th>\n",
       "      <td>9.950594</td>\n",
       "      <td>77.156719</td>\n",
       "      <td>POINT (77.15672 9.95059)</td>\n",
       "    </tr>\n",
       "    <tr>\n",
       "      <th>...</th>\n",
       "      <td>...</td>\n",
       "      <td>...</td>\n",
       "      <td>...</td>\n",
       "    </tr>\n",
       "    <tr>\n",
       "      <th>495</th>\n",
       "      <td>9.906259</td>\n",
       "      <td>76.807769</td>\n",
       "      <td>POINT (76.80777 9.90626)</td>\n",
       "    </tr>\n",
       "    <tr>\n",
       "      <th>496</th>\n",
       "      <td>9.850896</td>\n",
       "      <td>77.054695</td>\n",
       "      <td>POINT (77.05470 9.85090)</td>\n",
       "    </tr>\n",
       "    <tr>\n",
       "      <th>497</th>\n",
       "      <td>9.976896</td>\n",
       "      <td>76.712790</td>\n",
       "      <td>POINT (76.71279 9.97690)</td>\n",
       "    </tr>\n",
       "    <tr>\n",
       "      <th>498</th>\n",
       "      <td>9.852816</td>\n",
       "      <td>77.055480</td>\n",
       "      <td>POINT (77.05548 9.85282)</td>\n",
       "    </tr>\n",
       "    <tr>\n",
       "      <th>499</th>\n",
       "      <td>10.040078</td>\n",
       "      <td>76.812778</td>\n",
       "      <td>POINT (76.81278 10.04008)</td>\n",
       "    </tr>\n",
       "  </tbody>\n",
       "</table>\n",
       "<p>500 rows × 3 columns</p>\n",
       "</div>"
      ],
      "text/plain": [
       "     lattitude  longitude                   geometry\n",
       "0     9.949913  77.181886   POINT (77.18189 9.94991)\n",
       "1     9.934441  77.177306   POINT (77.17731 9.93444)\n",
       "2     9.937145  77.171517   POINT (77.17152 9.93715)\n",
       "3     9.953722  77.155266   POINT (77.15527 9.95372)\n",
       "4     9.950594  77.156719   POINT (77.15672 9.95059)\n",
       "..         ...        ...                        ...\n",
       "495   9.906259  76.807769   POINT (76.80777 9.90626)\n",
       "496   9.850896  77.054695   POINT (77.05470 9.85090)\n",
       "497   9.976896  76.712790   POINT (76.71279 9.97690)\n",
       "498   9.852816  77.055480   POINT (77.05548 9.85282)\n",
       "499  10.040078  76.812778  POINT (76.81278 10.04008)\n",
       "\n",
       "[500 rows x 3 columns]"
      ]
     },
     "execution_count": 9,
     "metadata": {},
     "output_type": "execute_result"
    }
   ],
   "source": [
    "df1"
   ]
  },
  {
   "cell_type": "code",
   "execution_count": 10,
   "metadata": {},
   "outputs": [
    {
     "data": {
      "text/plain": [
       "geopandas.geodataframe.GeoDataFrame"
      ]
     },
     "execution_count": 10,
     "metadata": {},
     "output_type": "execute_result"
    }
   ],
   "source": [
    "type(gdf)"
   ]
  },
  {
   "cell_type": "code",
   "execution_count": 11,
   "metadata": {},
   "outputs": [],
   "source": [
    "gdf.to_file(filename = 'pointfile.shp' , driver = 'ESRI Shapefile')"
   ]
  },
  {
   "cell_type": "code",
   "execution_count": 12,
   "metadata": {},
   "outputs": [
    {
     "ename": "DriverError",
     "evalue": "'/home/iiitmk/Desktop/GIS_repo/csv_shape/pointfile.shp' does not exist in the file system, and is not recognized as a supported dataset name.",
     "output_type": "error",
     "traceback": [
      "\u001b[1;31m---------------------------------------------------------------------------\u001b[0m",
      "\u001b[1;31mCPLE_OpenFailedError\u001b[0m                      Traceback (most recent call last)",
      "\u001b[1;32mfiona/_shim.pyx\u001b[0m in \u001b[0;36mfiona._shim.gdal_open_vector\u001b[1;34m()\u001b[0m\n",
      "\u001b[1;32mfiona/_err.pyx\u001b[0m in \u001b[0;36mfiona._err.exc_wrap_pointer\u001b[1;34m()\u001b[0m\n",
      "\u001b[1;31mCPLE_OpenFailedError\u001b[0m: '/home/iiitmk/Desktop/GIS_repo/csv_shape/pointfile.shp' does not exist in the file system, and is not recognized as a supported dataset name.",
      "\nDuring handling of the above exception, another exception occurred:\n",
      "\u001b[1;31mDriverError\u001b[0m                               Traceback (most recent call last)",
      "\u001b[1;32m<ipython-input-12-aeadd5a034f1>\u001b[0m in \u001b[0;36m<module>\u001b[1;34m\u001b[0m\n\u001b[1;32m----> 1\u001b[1;33m \u001b[0mdf_new\u001b[0m \u001b[1;33m=\u001b[0m \u001b[0mgpd\u001b[0m\u001b[1;33m.\u001b[0m\u001b[0mread_file\u001b[0m\u001b[1;33m(\u001b[0m\u001b[1;34m'/home/iiitmk/Desktop/GIS_repo/csv_shape/pointfile.shp'\u001b[0m\u001b[1;33m)\u001b[0m\u001b[1;33m\u001b[0m\u001b[1;33m\u001b[0m\u001b[0m\n\u001b[0m",
      "\u001b[1;32m~\\.conda\\envs\\GIS\\lib\\site-packages\\geopandas\\io\\file.py\u001b[0m in \u001b[0;36m_read_file\u001b[1;34m(filename, bbox, mask, rows, **kwargs)\u001b[0m\n\u001b[0;32m     94\u001b[0m \u001b[1;33m\u001b[0m\u001b[0m\n\u001b[0;32m     95\u001b[0m     \u001b[1;32mwith\u001b[0m \u001b[0mfiona_env\u001b[0m\u001b[1;33m(\u001b[0m\u001b[1;33m)\u001b[0m\u001b[1;33m:\u001b[0m\u001b[1;33m\u001b[0m\u001b[1;33m\u001b[0m\u001b[0m\n\u001b[1;32m---> 96\u001b[1;33m         \u001b[1;32mwith\u001b[0m \u001b[0mreader\u001b[0m\u001b[1;33m(\u001b[0m\u001b[0mpath_or_bytes\u001b[0m\u001b[1;33m,\u001b[0m \u001b[1;33m**\u001b[0m\u001b[0mkwargs\u001b[0m\u001b[1;33m)\u001b[0m \u001b[1;32mas\u001b[0m \u001b[0mfeatures\u001b[0m\u001b[1;33m:\u001b[0m\u001b[1;33m\u001b[0m\u001b[1;33m\u001b[0m\u001b[0m\n\u001b[0m\u001b[0;32m     97\u001b[0m \u001b[1;33m\u001b[0m\u001b[0m\n\u001b[0;32m     98\u001b[0m             \u001b[1;31m# In a future Fiona release the crs attribute of features will\u001b[0m\u001b[1;33m\u001b[0m\u001b[1;33m\u001b[0m\u001b[1;33m\u001b[0m\u001b[0m\n",
      "\u001b[1;32m~\\.conda\\envs\\GIS\\lib\\site-packages\\fiona\\env.py\u001b[0m in \u001b[0;36mwrapper\u001b[1;34m(*args, **kwargs)\u001b[0m\n\u001b[0;32m    396\u001b[0m     \u001b[1;32mdef\u001b[0m \u001b[0mwrapper\u001b[0m\u001b[1;33m(\u001b[0m\u001b[1;33m*\u001b[0m\u001b[0margs\u001b[0m\u001b[1;33m,\u001b[0m \u001b[1;33m**\u001b[0m\u001b[0mkwargs\u001b[0m\u001b[1;33m)\u001b[0m\u001b[1;33m:\u001b[0m\u001b[1;33m\u001b[0m\u001b[1;33m\u001b[0m\u001b[0m\n\u001b[0;32m    397\u001b[0m         \u001b[1;32mif\u001b[0m \u001b[0mlocal\u001b[0m\u001b[1;33m.\u001b[0m\u001b[0m_env\u001b[0m\u001b[1;33m:\u001b[0m\u001b[1;33m\u001b[0m\u001b[1;33m\u001b[0m\u001b[0m\n\u001b[1;32m--> 398\u001b[1;33m             \u001b[1;32mreturn\u001b[0m \u001b[0mf\u001b[0m\u001b[1;33m(\u001b[0m\u001b[1;33m*\u001b[0m\u001b[0margs\u001b[0m\u001b[1;33m,\u001b[0m \u001b[1;33m**\u001b[0m\u001b[0mkwargs\u001b[0m\u001b[1;33m)\u001b[0m\u001b[1;33m\u001b[0m\u001b[1;33m\u001b[0m\u001b[0m\n\u001b[0m\u001b[0;32m    399\u001b[0m         \u001b[1;32melse\u001b[0m\u001b[1;33m:\u001b[0m\u001b[1;33m\u001b[0m\u001b[1;33m\u001b[0m\u001b[0m\n\u001b[0;32m    400\u001b[0m             \u001b[1;32mif\u001b[0m \u001b[0misinstance\u001b[0m\u001b[1;33m(\u001b[0m\u001b[0margs\u001b[0m\u001b[1;33m[\u001b[0m\u001b[1;36m0\u001b[0m\u001b[1;33m]\u001b[0m\u001b[1;33m,\u001b[0m \u001b[0mstr\u001b[0m\u001b[1;33m)\u001b[0m\u001b[1;33m:\u001b[0m\u001b[1;33m\u001b[0m\u001b[1;33m\u001b[0m\u001b[0m\n",
      "\u001b[1;32m~\\.conda\\envs\\GIS\\lib\\site-packages\\fiona\\__init__.py\u001b[0m in \u001b[0;36mopen\u001b[1;34m(fp, mode, driver, schema, crs, encoding, layer, vfs, enabled_drivers, crs_wkt, **kwargs)\u001b[0m\n\u001b[0;32m    251\u001b[0m \u001b[1;33m\u001b[0m\u001b[0m\n\u001b[0;32m    252\u001b[0m         \u001b[1;32mif\u001b[0m \u001b[0mmode\u001b[0m \u001b[1;32min\u001b[0m \u001b[1;33m(\u001b[0m\u001b[1;34m'a'\u001b[0m\u001b[1;33m,\u001b[0m \u001b[1;34m'r'\u001b[0m\u001b[1;33m)\u001b[0m\u001b[1;33m:\u001b[0m\u001b[1;33m\u001b[0m\u001b[1;33m\u001b[0m\u001b[0m\n\u001b[1;32m--> 253\u001b[1;33m             c = Collection(path, mode, driver=driver, encoding=encoding,\n\u001b[0m\u001b[0;32m    254\u001b[0m                            layer=layer, enabled_drivers=enabled_drivers, **kwargs)\n\u001b[0;32m    255\u001b[0m         \u001b[1;32melif\u001b[0m \u001b[0mmode\u001b[0m \u001b[1;33m==\u001b[0m \u001b[1;34m'w'\u001b[0m\u001b[1;33m:\u001b[0m\u001b[1;33m\u001b[0m\u001b[1;33m\u001b[0m\u001b[0m\n",
      "\u001b[1;32m~\\.conda\\envs\\GIS\\lib\\site-packages\\fiona\\collection.py\u001b[0m in \u001b[0;36m__init__\u001b[1;34m(self, path, mode, driver, schema, crs, encoding, layer, vsi, archive, enabled_drivers, crs_wkt, ignore_fields, ignore_geometry, **kwargs)\u001b[0m\n\u001b[0;32m    152\u001b[0m             \u001b[1;32mif\u001b[0m \u001b[0mself\u001b[0m\u001b[1;33m.\u001b[0m\u001b[0mmode\u001b[0m \u001b[1;33m==\u001b[0m \u001b[1;34m'r'\u001b[0m\u001b[1;33m:\u001b[0m\u001b[1;33m\u001b[0m\u001b[1;33m\u001b[0m\u001b[0m\n\u001b[0;32m    153\u001b[0m                 \u001b[0mself\u001b[0m\u001b[1;33m.\u001b[0m\u001b[0msession\u001b[0m \u001b[1;33m=\u001b[0m \u001b[0mSession\u001b[0m\u001b[1;33m(\u001b[0m\u001b[1;33m)\u001b[0m\u001b[1;33m\u001b[0m\u001b[1;33m\u001b[0m\u001b[0m\n\u001b[1;32m--> 154\u001b[1;33m                 \u001b[0mself\u001b[0m\u001b[1;33m.\u001b[0m\u001b[0msession\u001b[0m\u001b[1;33m.\u001b[0m\u001b[0mstart\u001b[0m\u001b[1;33m(\u001b[0m\u001b[0mself\u001b[0m\u001b[1;33m,\u001b[0m \u001b[1;33m**\u001b[0m\u001b[0mkwargs\u001b[0m\u001b[1;33m)\u001b[0m\u001b[1;33m\u001b[0m\u001b[1;33m\u001b[0m\u001b[0m\n\u001b[0m\u001b[0;32m    155\u001b[0m             \u001b[1;32melif\u001b[0m \u001b[0mself\u001b[0m\u001b[1;33m.\u001b[0m\u001b[0mmode\u001b[0m \u001b[1;32min\u001b[0m \u001b[1;33m(\u001b[0m\u001b[1;34m'a'\u001b[0m\u001b[1;33m,\u001b[0m \u001b[1;34m'w'\u001b[0m\u001b[1;33m)\u001b[0m\u001b[1;33m:\u001b[0m\u001b[1;33m\u001b[0m\u001b[1;33m\u001b[0m\u001b[0m\n\u001b[0;32m    156\u001b[0m                 \u001b[0mself\u001b[0m\u001b[1;33m.\u001b[0m\u001b[0msession\u001b[0m \u001b[1;33m=\u001b[0m \u001b[0mWritingSession\u001b[0m\u001b[1;33m(\u001b[0m\u001b[1;33m)\u001b[0m\u001b[1;33m\u001b[0m\u001b[1;33m\u001b[0m\u001b[0m\n",
      "\u001b[1;32mfiona/ogrext.pyx\u001b[0m in \u001b[0;36mfiona.ogrext.Session.start\u001b[1;34m()\u001b[0m\n",
      "\u001b[1;32mfiona/_shim.pyx\u001b[0m in \u001b[0;36mfiona._shim.gdal_open_vector\u001b[1;34m()\u001b[0m\n",
      "\u001b[1;31mDriverError\u001b[0m: '/home/iiitmk/Desktop/GIS_repo/csv_shape/pointfile.shp' does not exist in the file system, and is not recognized as a supported dataset name."
     ]
    }
   ],
   "source": [
    "df_new = gpd.read_file('/home/iiitmk/Desktop/GIS_repo/csv_shape/pointfile.shp')"
   ]
  },
  {
   "cell_type": "code",
   "execution_count": null,
   "metadata": {},
   "outputs": [],
   "source": [
    "ax = df_new.plot(figsize =(10,10))"
   ]
  },
  {
   "cell_type": "code",
   "execution_count": null,
   "metadata": {},
   "outputs": [],
   "source": [
    "mplleaflet.show(fig=ax.figure, epsg=4326)"
   ]
  },
  {
   "cell_type": "code",
   "execution_count": 2,
   "metadata": {},
   "outputs": [],
   "source": [
    "def farmer_loc(path):\n",
    "#     path = str()\n",
    "    df = pd.read_csv(path)\n",
    "    df1 = df[['lattitude','longitude']]\n",
    "    geometry = [Point(xy) for xy in zip(df1['longitude'] , df1['lattitude'])]\n",
    "\n",
    "    # crs = {'init': 'epsg:4326'}\n",
    "    crs = CRS('epsg:4326')\n",
    "\n",
    "    gdf = gpd.GeoDataFrame(df1 , crs=crs , geometry=geometry)\n",
    "    gdf.to_file(filename = 'my.geojson', driver='GeoJSON')\n",
    "    df_new = gpd.read_file('my.geojson')\n",
    "    ax = df_new.plot(figsize =(10,10))\n",
    "    mplleaflet.show(fig=ax.figure, epsg=4326)\n",
    "#     IFrame(\"/home/iiitmk/Desktop/GIS_repo/csv_shape/_map.html\", width=560, height=315)\n"
   ]
  },
  {
   "cell_type": "code",
   "execution_count": 3,
   "metadata": {},
   "outputs": [
    {
     "name": "stderr",
     "output_type": "stream",
     "text": [
      "C:\\Users\\nithi\\.conda\\envs\\GIS\\lib\\site-packages\\pyproj\\crs\\crs.py:53: FutureWarning: '+init=<authority>:<code>' syntax is deprecated. '<authority>:<code>' is the preferred initialization method. When making the change, be mindful of axis order changes: https://pyproj4.github.io/pyproj/stable/gotchas.html#axis-order-changes-in-proj-6\n",
      "  return _prepare_from_string(\" \".join(pjargs))\n",
      "C:\\Users\\nithi\\.conda\\envs\\GIS\\lib\\site-packages\\pyproj\\crs\\crs.py:294: FutureWarning: '+init=<authority>:<code>' syntax is deprecated. '<authority>:<code>' is the preferred initialization method. When making the change, be mindful of axis order changes: https://pyproj4.github.io/pyproj/stable/gotchas.html#axis-order-changes-in-proj-6\n",
      "  projstring = _prepare_from_string(\" \".join((projstring, projkwargs)))\n",
      "C:\\Users\\nithi\\.conda\\envs\\GIS\\lib\\site-packages\\pyproj\\crs\\crs.py:53: FutureWarning: '+init=<authority>:<code>' syntax is deprecated. '<authority>:<code>' is the preferred initialization method. When making the change, be mindful of axis order changes: https://pyproj4.github.io/pyproj/stable/gotchas.html#axis-order-changes-in-proj-6\n",
      "  return _prepare_from_string(\" \".join(pjargs))\n",
      "C:\\Users\\nithi\\.conda\\envs\\GIS\\lib\\site-packages\\pyproj\\crs\\crs.py:294: FutureWarning: '+init=<authority>:<code>' syntax is deprecated. '<authority>:<code>' is the preferred initialization method. When making the change, be mindful of axis order changes: https://pyproj4.github.io/pyproj/stable/gotchas.html#axis-order-changes-in-proj-6\n",
      "  projstring = _prepare_from_string(\" \".join((projstring, projkwargs)))\n",
      "C:\\Users\\nithi\\.conda\\envs\\GIS\\lib\\site-packages\\mplleaflet\\mplexporter\\exporter.py:263: MatplotlibDeprecationWarning: \n",
      "The get_offset_position function was deprecated in Matplotlib 3.3 and will be removed two minor releases later.\n",
      "  offset_order = offset_dict[collection.get_offset_position()]\n"
     ]
    }
   ],
   "source": [
    "farmer_loc('tbl_data.csv')"
   ]
  },
  {
   "cell_type": "code",
   "execution_count": 14,
   "metadata": {},
   "outputs": [],
   "source": [
    "from functools import partial\n",
    "import pyproj\n",
    "from shapely.ops import transform\n",
    "from shapely.geometry import Point , LineString\n",
    "\n",
    "proj_wgs84 = pyproj.Proj('+proj=longlat +datum=WGS84')\n",
    "\n",
    "\n",
    "def geodesic_point_buffer(lat, lon, km):\n",
    "    # Azimuthal equidistant projection\n",
    "    aeqd_proj = '+proj=aeqd +lat_0={lat} +lon_0={lon} +x_0=0 +y_0=0'\n",
    "    project = partial(\n",
    "        pyproj.transform,\n",
    "        pyproj.Proj(aeqd_proj.format(lat=lat, lon=lon)),\n",
    "        proj_wgs84)\n",
    "    buf = Point(0, 0).buffer(km * 1000)  # distance in metres\n",
    "    return transform(project, buf).exterior.coords[:]\n",
    "\n",
    "# Example\n",
    "b = geodesic_point_buffer(9.94, 77.18, 10.0)"
   ]
  },
  {
   "cell_type": "code",
   "execution_count": null,
   "metadata": {},
   "outputs": [],
   "source": []
  },
  {
   "cell_type": "code",
   "execution_count": 15,
   "metadata": {
    "scrolled": true
   },
   "outputs": [
    {
     "name": "stdout",
     "output_type": "stream",
     "text": [
      "[(77.27119143583155, 9.93998758060824), (77.27074988110323, 9.931125982659704), (77.26943442733457, 9.922349957106938), (77.26725781053716, 9.913744011694124), (77.26424105477247, 9.90539101001256), (77.2604132673093, 9.89737137411583), (77.25581135623894, 9.889762310859291), (77.25047967334554, 9.882637069381499), (77.24446958573367, 9.87606423683883), (77.23783898038448, 9.870107079131117), (77.23065170643869, 9.864822932919363), (77.22297696058513, 9.860262654741344), (77.2148886214613, 9.85647013248111), (77.2064645394449, 9.853481863850266), (77.1977857886263, 9.8513266058974), (77.18893588810066, 9.850025098883338), (77.18, 9.849589867150813), (77.17106411189935, 9.850025098883338), (77.16221421137371, 9.851326605897402), (77.15353546055512, 9.853481863850266), (77.14511137853872, 9.85647013248111), (77.13702303941488, 9.860262654741344), (77.12934829356132, 9.864822932919363), (77.12216101961553, 9.870107079131117), (77.11553041426636, 9.876064236838829), (77.10952032665448, 9.882637069381499), (77.10418864376106, 9.889762310859291), (77.09958673269071, 9.897371374115828), (77.09575894522754, 9.90539101001256), (77.09274218946285, 9.913744011694124), (77.09056557266545, 9.922349957106936), (77.08925011889679, 9.931125982659704), (77.08880856416846, 9.93998758060824), (77.08924523120412, 9.948849412510372), (77.09055598511068, 9.957626130933292), (77.09272827048905, 9.966233201506338), (77.0957412297313, 9.974587717399165), (77.09956590146676, 9.982609198368149), (77.10416549733993, 9.99022036665311), (77.10949575453883, 9.99734789222065), (77.11550536074809, 10.003923100138248), (77.12213644748734, 10.009882633221798), (77.12932514711699, 10.01516906352588), (77.13700220816062, 10.01973144673619), (77.14509366300966, 10.023525814073247), (77.15352154155099, 10.026515596919909), (77.16220462379576, 10.028671980036874), (77.17105922419414, 10.029974179923668), (77.18, 10.030409645610707), (77.18894077580588, 10.029974179923666), (77.19779537620425, 10.028671980036874), (77.20647845844903, 10.02651559691991), (77.21490633699035, 10.023525814073247), (77.22299779183939, 10.019731446736188), (77.23067485288303, 10.015169063525883), (77.23786355251268, 10.0098826332218), (77.24449463925193, 10.003923100138246), (77.25050424546119, 9.997347892220652), (77.25583450266008, 9.990220366653112), (77.26043409853325, 9.98260919836815), (77.26425877026871, 9.974587717399164), (77.26727172951097, 9.966233201506338), (77.26944401488933, 9.957626130933294), (77.2707547687959, 9.948849412510373), (77.27119143583155, 9.939987580608241), (77.27119143583155, 9.93998758060824)]\n"
     ]
    }
   ],
   "source": [
    "print(b)"
   ]
  },
  {
   "cell_type": "code",
   "execution_count": 16,
   "metadata": {},
   "outputs": [
    {
     "name": "stdout",
     "output_type": "stream",
     "text": [
      "          LAT      LONG\n",
      "0   77.271191  9.939988\n",
      "1   77.270750  9.931126\n",
      "2   77.269434  9.922350\n",
      "3   77.267258  9.913744\n",
      "4   77.264241  9.905391\n",
      "..        ...       ...\n",
      "61  77.267272  9.966233\n",
      "62  77.269444  9.957626\n",
      "63  77.270755  9.948849\n",
      "64  77.271191  9.939988\n",
      "65  77.271191  9.939988\n",
      "\n",
      "[66 rows x 2 columns]\n"
     ]
    }
   ],
   "source": [
    "dff = pd.DataFrame(b,columns=['LAT','LONG'])\n",
    "print (dff)"
   ]
  },
  {
   "cell_type": "code",
   "execution_count": 24,
   "metadata": {},
   "outputs": [],
   "source": [
    "dp = dff[0:2]"
   ]
  },
  {
   "cell_type": "code",
   "execution_count": 25,
   "metadata": {},
   "outputs": [
    {
     "data": {
      "text/html": [
       "<div>\n",
       "<style scoped>\n",
       "    .dataframe tbody tr th:only-of-type {\n",
       "        vertical-align: middle;\n",
       "    }\n",
       "\n",
       "    .dataframe tbody tr th {\n",
       "        vertical-align: top;\n",
       "    }\n",
       "\n",
       "    .dataframe thead th {\n",
       "        text-align: right;\n",
       "    }\n",
       "</style>\n",
       "<table border=\"1\" class=\"dataframe\">\n",
       "  <thead>\n",
       "    <tr style=\"text-align: right;\">\n",
       "      <th></th>\n",
       "      <th>LAT</th>\n",
       "      <th>LONG</th>\n",
       "    </tr>\n",
       "  </thead>\n",
       "  <tbody>\n",
       "    <tr>\n",
       "      <th>0</th>\n",
       "      <td>77.271191</td>\n",
       "      <td>9.939988</td>\n",
       "    </tr>\n",
       "    <tr>\n",
       "      <th>1</th>\n",
       "      <td>77.270750</td>\n",
       "      <td>9.931126</td>\n",
       "    </tr>\n",
       "  </tbody>\n",
       "</table>\n",
       "</div>"
      ],
      "text/plain": [
       "         LAT      LONG\n",
       "0  77.271191  9.939988\n",
       "1  77.270750  9.931126"
      ]
     },
     "execution_count": 25,
     "metadata": {},
     "output_type": "execute_result"
    }
   ],
   "source": [
    "dp"
   ]
  },
  {
   "cell_type": "code",
   "execution_count": 26,
   "metadata": {},
   "outputs": [
    {
     "data": {
      "text/plain": [
       "pandas.core.frame.DataFrame"
      ]
     },
     "execution_count": 26,
     "metadata": {},
     "output_type": "execute_result"
    }
   ],
   "source": [
    "type(dp)"
   ]
  },
  {
   "cell_type": "code",
   "execution_count": null,
   "metadata": {},
   "outputs": [],
   "source": []
  },
  {
   "cell_type": "code",
   "execution_count": 27,
   "metadata": {},
   "outputs": [
    {
     "ename": "ValueError",
     "evalue": "Unknown column LINESTRING (77.27 9.93, 77.7075 9.931126000000001)",
     "output_type": "error",
     "traceback": [
      "\u001b[1;31m---------------------------------------------------------------------------\u001b[0m",
      "\u001b[1;31mKeyError\u001b[0m                                  Traceback (most recent call last)",
      "\u001b[1;32m~\\.conda\\envs\\GIS\\lib\\site-packages\\pandas\\core\\indexes\\base.py\u001b[0m in \u001b[0;36mget_loc\u001b[1;34m(self, key, method, tolerance)\u001b[0m\n\u001b[0;32m   3079\u001b[0m             \u001b[1;32mtry\u001b[0m\u001b[1;33m:\u001b[0m\u001b[1;33m\u001b[0m\u001b[1;33m\u001b[0m\u001b[0m\n\u001b[1;32m-> 3080\u001b[1;33m                 \u001b[1;32mreturn\u001b[0m \u001b[0mself\u001b[0m\u001b[1;33m.\u001b[0m\u001b[0m_engine\u001b[0m\u001b[1;33m.\u001b[0m\u001b[0mget_loc\u001b[0m\u001b[1;33m(\u001b[0m\u001b[0mcasted_key\u001b[0m\u001b[1;33m)\u001b[0m\u001b[1;33m\u001b[0m\u001b[1;33m\u001b[0m\u001b[0m\n\u001b[0m\u001b[0;32m   3081\u001b[0m             \u001b[1;32mexcept\u001b[0m \u001b[0mKeyError\u001b[0m \u001b[1;32mas\u001b[0m \u001b[0merr\u001b[0m\u001b[1;33m:\u001b[0m\u001b[1;33m\u001b[0m\u001b[1;33m\u001b[0m\u001b[0m\n",
      "\u001b[1;32mpandas\\_libs\\index.pyx\u001b[0m in \u001b[0;36mpandas._libs.index.IndexEngine.get_loc\u001b[1;34m()\u001b[0m\n",
      "\u001b[1;32mpandas\\_libs\\index.pyx\u001b[0m in \u001b[0;36mpandas._libs.index.IndexEngine.get_loc\u001b[1;34m()\u001b[0m\n",
      "\u001b[1;32mpandas\\_libs\\hashtable_class_helper.pxi\u001b[0m in \u001b[0;36mpandas._libs.hashtable.PyObjectHashTable.get_item\u001b[1;34m()\u001b[0m\n",
      "\u001b[1;32mpandas\\_libs\\hashtable_class_helper.pxi\u001b[0m in \u001b[0;36mpandas._libs.hashtable.PyObjectHashTable.get_item\u001b[1;34m()\u001b[0m\n",
      "\u001b[1;31mKeyError\u001b[0m: 'LINESTRING (77.27 9.93, 77.7075 9.931126000000001)'",
      "\nThe above exception was the direct cause of the following exception:\n",
      "\u001b[1;31mKeyError\u001b[0m                                  Traceback (most recent call last)",
      "\u001b[1;32m~\\.conda\\envs\\GIS\\lib\\site-packages\\geopandas\\geodataframe.py\u001b[0m in \u001b[0;36mset_geometry\u001b[1;34m(self, col, drop, inplace, crs)\u001b[0m\n\u001b[0;32m    229\u001b[0m             \u001b[1;32mtry\u001b[0m\u001b[1;33m:\u001b[0m\u001b[1;33m\u001b[0m\u001b[1;33m\u001b[0m\u001b[0m\n\u001b[1;32m--> 230\u001b[1;33m                 \u001b[0mlevel\u001b[0m \u001b[1;33m=\u001b[0m \u001b[0mframe\u001b[0m\u001b[1;33m[\u001b[0m\u001b[0mcol\u001b[0m\u001b[1;33m]\u001b[0m\u001b[1;33m.\u001b[0m\u001b[0mvalues\u001b[0m\u001b[1;33m\u001b[0m\u001b[1;33m\u001b[0m\u001b[0m\n\u001b[0m\u001b[0;32m    231\u001b[0m             \u001b[1;32mexcept\u001b[0m \u001b[0mKeyError\u001b[0m\u001b[1;33m:\u001b[0m\u001b[1;33m\u001b[0m\u001b[1;33m\u001b[0m\u001b[0m\n",
      "\u001b[1;32m~\\.conda\\envs\\GIS\\lib\\site-packages\\geopandas\\geodataframe.py\u001b[0m in \u001b[0;36m__getitem__\u001b[1;34m(self, key)\u001b[0m\n\u001b[0;32m    827\u001b[0m         \"\"\"\n\u001b[1;32m--> 828\u001b[1;33m         \u001b[0mresult\u001b[0m \u001b[1;33m=\u001b[0m \u001b[0msuper\u001b[0m\u001b[1;33m(\u001b[0m\u001b[0mGeoDataFrame\u001b[0m\u001b[1;33m,\u001b[0m \u001b[0mself\u001b[0m\u001b[1;33m)\u001b[0m\u001b[1;33m.\u001b[0m\u001b[0m__getitem__\u001b[0m\u001b[1;33m(\u001b[0m\u001b[0mkey\u001b[0m\u001b[1;33m)\u001b[0m\u001b[1;33m\u001b[0m\u001b[1;33m\u001b[0m\u001b[0m\n\u001b[0m\u001b[0;32m    829\u001b[0m         \u001b[0mgeo_col\u001b[0m \u001b[1;33m=\u001b[0m \u001b[0mself\u001b[0m\u001b[1;33m.\u001b[0m\u001b[0m_geometry_column_name\u001b[0m\u001b[1;33m\u001b[0m\u001b[1;33m\u001b[0m\u001b[0m\n",
      "\u001b[1;32m~\\.conda\\envs\\GIS\\lib\\site-packages\\pandas\\core\\frame.py\u001b[0m in \u001b[0;36m__getitem__\u001b[1;34m(self, key)\u001b[0m\n\u001b[0;32m   3023\u001b[0m                 \u001b[1;32mreturn\u001b[0m \u001b[0mself\u001b[0m\u001b[1;33m.\u001b[0m\u001b[0m_getitem_multilevel\u001b[0m\u001b[1;33m(\u001b[0m\u001b[0mkey\u001b[0m\u001b[1;33m)\u001b[0m\u001b[1;33m\u001b[0m\u001b[1;33m\u001b[0m\u001b[0m\n\u001b[1;32m-> 3024\u001b[1;33m             \u001b[0mindexer\u001b[0m \u001b[1;33m=\u001b[0m \u001b[0mself\u001b[0m\u001b[1;33m.\u001b[0m\u001b[0mcolumns\u001b[0m\u001b[1;33m.\u001b[0m\u001b[0mget_loc\u001b[0m\u001b[1;33m(\u001b[0m\u001b[0mkey\u001b[0m\u001b[1;33m)\u001b[0m\u001b[1;33m\u001b[0m\u001b[1;33m\u001b[0m\u001b[0m\n\u001b[0m\u001b[0;32m   3025\u001b[0m             \u001b[1;32mif\u001b[0m \u001b[0mis_integer\u001b[0m\u001b[1;33m(\u001b[0m\u001b[0mindexer\u001b[0m\u001b[1;33m)\u001b[0m\u001b[1;33m:\u001b[0m\u001b[1;33m\u001b[0m\u001b[1;33m\u001b[0m\u001b[0m\n",
      "\u001b[1;32m~\\.conda\\envs\\GIS\\lib\\site-packages\\pandas\\core\\indexes\\base.py\u001b[0m in \u001b[0;36mget_loc\u001b[1;34m(self, key, method, tolerance)\u001b[0m\n\u001b[0;32m   3081\u001b[0m             \u001b[1;32mexcept\u001b[0m \u001b[0mKeyError\u001b[0m \u001b[1;32mas\u001b[0m \u001b[0merr\u001b[0m\u001b[1;33m:\u001b[0m\u001b[1;33m\u001b[0m\u001b[1;33m\u001b[0m\u001b[0m\n\u001b[1;32m-> 3082\u001b[1;33m                 \u001b[1;32mraise\u001b[0m \u001b[0mKeyError\u001b[0m\u001b[1;33m(\u001b[0m\u001b[0mkey\u001b[0m\u001b[1;33m)\u001b[0m \u001b[1;32mfrom\u001b[0m \u001b[0merr\u001b[0m\u001b[1;33m\u001b[0m\u001b[1;33m\u001b[0m\u001b[0m\n\u001b[0m\u001b[0;32m   3083\u001b[0m \u001b[1;33m\u001b[0m\u001b[0m\n",
      "\u001b[1;31mKeyError\u001b[0m: 'LINESTRING (77.27 9.93, 77.7075 9.931126000000001)'",
      "\nDuring handling of the above exception, another exception occurred:\n",
      "\u001b[1;31mValueError\u001b[0m                                Traceback (most recent call last)",
      "\u001b[1;32m<ipython-input-27-5aa1769f7be3>\u001b[0m in \u001b[0;36m<module>\u001b[1;34m\u001b[0m\n\u001b[0;32m      4\u001b[0m \u001b[0mcrs\u001b[0m \u001b[1;33m=\u001b[0m \u001b[0mCRS\u001b[0m\u001b[1;33m(\u001b[0m\u001b[1;34m'epsg:4326'\u001b[0m\u001b[1;33m)\u001b[0m\u001b[1;33m\u001b[0m\u001b[1;33m\u001b[0m\u001b[0m\n\u001b[0;32m      5\u001b[0m \u001b[1;33m\u001b[0m\u001b[0m\n\u001b[1;32m----> 6\u001b[1;33m \u001b[0mgdf\u001b[0m \u001b[1;33m=\u001b[0m \u001b[0mgpd\u001b[0m\u001b[1;33m.\u001b[0m\u001b[0mGeoDataFrame\u001b[0m\u001b[1;33m(\u001b[0m\u001b[0mdp\u001b[0m \u001b[1;33m,\u001b[0m \u001b[0mcrs\u001b[0m\u001b[1;33m=\u001b[0m\u001b[0mcrs\u001b[0m \u001b[1;33m,\u001b[0m \u001b[0mgeometry\u001b[0m\u001b[1;33m=\u001b[0m\u001b[0mline\u001b[0m\u001b[1;33m)\u001b[0m\u001b[1;33m\u001b[0m\u001b[1;33m\u001b[0m\u001b[0m\n\u001b[0m",
      "\u001b[1;32m~\\.conda\\envs\\GIS\\lib\\site-packages\\geopandas\\geodataframe.py\u001b[0m in \u001b[0;36m__init__\u001b[1;34m(self, *args, **kwargs)\u001b[0m\n\u001b[0;32m    149\u001b[0m                 )\n\u001b[0;32m    150\u001b[0m                 \u001b[1;31m# TODO: raise error in 0.9 or 0.10.\u001b[0m\u001b[1;33m\u001b[0m\u001b[1;33m\u001b[0m\u001b[1;33m\u001b[0m\u001b[0m\n\u001b[1;32m--> 151\u001b[1;33m             \u001b[0mself\u001b[0m\u001b[1;33m.\u001b[0m\u001b[0mset_geometry\u001b[0m\u001b[1;33m(\u001b[0m\u001b[0mgeometry\u001b[0m\u001b[1;33m,\u001b[0m \u001b[0minplace\u001b[0m\u001b[1;33m=\u001b[0m\u001b[1;32mTrue\u001b[0m\u001b[1;33m)\u001b[0m\u001b[1;33m\u001b[0m\u001b[1;33m\u001b[0m\u001b[0m\n\u001b[0m\u001b[0;32m    152\u001b[0m         \u001b[0mself\u001b[0m\u001b[1;33m.\u001b[0m\u001b[0m_invalidate_sindex\u001b[0m\u001b[1;33m(\u001b[0m\u001b[1;33m)\u001b[0m\u001b[1;33m\u001b[0m\u001b[1;33m\u001b[0m\u001b[0m\n\u001b[0;32m    153\u001b[0m \u001b[1;33m\u001b[0m\u001b[0m\n",
      "\u001b[1;32m~\\.conda\\envs\\GIS\\lib\\site-packages\\geopandas\\geodataframe.py\u001b[0m in \u001b[0;36mset_geometry\u001b[1;34m(self, col, drop, inplace, crs)\u001b[0m\n\u001b[0;32m    230\u001b[0m                 \u001b[0mlevel\u001b[0m \u001b[1;33m=\u001b[0m \u001b[0mframe\u001b[0m\u001b[1;33m[\u001b[0m\u001b[0mcol\u001b[0m\u001b[1;33m]\u001b[0m\u001b[1;33m.\u001b[0m\u001b[0mvalues\u001b[0m\u001b[1;33m\u001b[0m\u001b[1;33m\u001b[0m\u001b[0m\n\u001b[0;32m    231\u001b[0m             \u001b[1;32mexcept\u001b[0m \u001b[0mKeyError\u001b[0m\u001b[1;33m:\u001b[0m\u001b[1;33m\u001b[0m\u001b[1;33m\u001b[0m\u001b[0m\n\u001b[1;32m--> 232\u001b[1;33m                 \u001b[1;32mraise\u001b[0m \u001b[0mValueError\u001b[0m\u001b[1;33m(\u001b[0m\u001b[1;34m\"Unknown column %s\"\u001b[0m \u001b[1;33m%\u001b[0m \u001b[0mcol\u001b[0m\u001b[1;33m)\u001b[0m\u001b[1;33m\u001b[0m\u001b[1;33m\u001b[0m\u001b[0m\n\u001b[0m\u001b[0;32m    233\u001b[0m             \u001b[1;32mexcept\u001b[0m \u001b[0mException\u001b[0m\u001b[1;33m:\u001b[0m\u001b[1;33m\u001b[0m\u001b[1;33m\u001b[0m\u001b[0m\n\u001b[0;32m    234\u001b[0m                 \u001b[1;32mraise\u001b[0m\u001b[1;33m\u001b[0m\u001b[1;33m\u001b[0m\u001b[0m\n",
      "\u001b[1;31mValueError\u001b[0m: Unknown column LINESTRING (77.27 9.93, 77.7075 9.931126000000001)"
     ]
    }
   ],
   "source": [
    "# geometry1 = [Point(xy) for xy in zip(dff['LAT'] , dff['LONG'])]\n",
    "line = LineString([Point(xy), Point()]).wkt\n",
    "# crs = {'init': 'epsg:4326'}\n",
    "crs = CRS('epsg:4326')\n",
    "\n",
    "gdf = gpd.GeoDataFrame(dp , crs=crs , geometry=line)"
   ]
  },
  {
   "cell_type": "code",
   "execution_count": 15,
   "metadata": {},
   "outputs": [
    {
     "data": {
      "text/html": [
       "<div>\n",
       "<style scoped>\n",
       "    .dataframe tbody tr th:only-of-type {\n",
       "        vertical-align: middle;\n",
       "    }\n",
       "\n",
       "    .dataframe tbody tr th {\n",
       "        vertical-align: top;\n",
       "    }\n",
       "\n",
       "    .dataframe thead th {\n",
       "        text-align: right;\n",
       "    }\n",
       "</style>\n",
       "<table border=\"1\" class=\"dataframe\">\n",
       "  <thead>\n",
       "    <tr style=\"text-align: right;\">\n",
       "      <th></th>\n",
       "      <th>LAT</th>\n",
       "      <th>LONG</th>\n",
       "      <th>geometry</th>\n",
       "    </tr>\n",
       "  </thead>\n",
       "  <tbody>\n",
       "    <tr>\n",
       "      <th>0</th>\n",
       "      <td>77.271191</td>\n",
       "      <td>9.939988</td>\n",
       "      <td>POINT (77.27119 9.93999)</td>\n",
       "    </tr>\n",
       "    <tr>\n",
       "      <th>1</th>\n",
       "      <td>77.270750</td>\n",
       "      <td>9.931126</td>\n",
       "      <td>POINT (77.27075 9.93113)</td>\n",
       "    </tr>\n",
       "    <tr>\n",
       "      <th>2</th>\n",
       "      <td>77.269434</td>\n",
       "      <td>9.922350</td>\n",
       "      <td>POINT (77.26943 9.92235)</td>\n",
       "    </tr>\n",
       "    <tr>\n",
       "      <th>3</th>\n",
       "      <td>77.267258</td>\n",
       "      <td>9.913744</td>\n",
       "      <td>POINT (77.26726 9.91374)</td>\n",
       "    </tr>\n",
       "    <tr>\n",
       "      <th>4</th>\n",
       "      <td>77.264241</td>\n",
       "      <td>9.905391</td>\n",
       "      <td>POINT (77.26424 9.90539)</td>\n",
       "    </tr>\n",
       "  </tbody>\n",
       "</table>\n",
       "</div>"
      ],
      "text/plain": [
       "         LAT      LONG                  geometry\n",
       "0  77.271191  9.939988  POINT (77.27119 9.93999)\n",
       "1  77.270750  9.931126  POINT (77.27075 9.93113)\n",
       "2  77.269434  9.922350  POINT (77.26943 9.92235)\n",
       "3  77.267258  9.913744  POINT (77.26726 9.91374)\n",
       "4  77.264241  9.905391  POINT (77.26424 9.90539)"
      ]
     },
     "execution_count": 15,
     "metadata": {},
     "output_type": "execute_result"
    }
   ],
   "source": [
    "gdf.head()"
   ]
  },
  {
   "cell_type": "code",
   "execution_count": 16,
   "metadata": {},
   "outputs": [
    {
     "name": "stderr",
     "output_type": "stream",
     "text": [
      "C:\\Users\\nithi\\.conda\\envs\\GIS\\lib\\site-packages\\pyproj\\crs\\crs.py:53: FutureWarning: '+init=<authority>:<code>' syntax is deprecated. '<authority>:<code>' is the preferred initialization method. When making the change, be mindful of axis order changes: https://pyproj4.github.io/pyproj/stable/gotchas.html#axis-order-changes-in-proj-6\n",
      "  return _prepare_from_string(\" \".join(pjargs))\n",
      "C:\\Users\\nithi\\.conda\\envs\\GIS\\lib\\site-packages\\pyproj\\crs\\crs.py:294: FutureWarning: '+init=<authority>:<code>' syntax is deprecated. '<authority>:<code>' is the preferred initialization method. When making the change, be mindful of axis order changes: https://pyproj4.github.io/pyproj/stable/gotchas.html#axis-order-changes-in-proj-6\n",
      "  projstring = _prepare_from_string(\" \".join((projstring, projkwargs)))\n",
      "C:\\Users\\nithi\\.conda\\envs\\GIS\\lib\\site-packages\\pyproj\\crs\\crs.py:53: FutureWarning: '+init=<authority>:<code>' syntax is deprecated. '<authority>:<code>' is the preferred initialization method. When making the change, be mindful of axis order changes: https://pyproj4.github.io/pyproj/stable/gotchas.html#axis-order-changes-in-proj-6\n",
      "  return _prepare_from_string(\" \".join(pjargs))\n",
      "C:\\Users\\nithi\\.conda\\envs\\GIS\\lib\\site-packages\\pyproj\\crs\\crs.py:294: FutureWarning: '+init=<authority>:<code>' syntax is deprecated. '<authority>:<code>' is the preferred initialization method. When making the change, be mindful of axis order changes: https://pyproj4.github.io/pyproj/stable/gotchas.html#axis-order-changes-in-proj-6\n",
      "  projstring = _prepare_from_string(\" \".join((projstring, projkwargs)))\n",
      "C:\\Users\\nithi\\.conda\\envs\\GIS\\lib\\site-packages\\mplleaflet\\mplexporter\\exporter.py:263: MatplotlibDeprecationWarning: \n",
      "The get_offset_position function was deprecated in Matplotlib 3.3 and will be removed two minor releases later.\n",
      "  offset_order = offset_dict[collection.get_offset_position()]\n"
     ]
    }
   ],
   "source": [
    "    gdf.to_file(filename = 'buffer.geojson', driver='GeoJSON')\n",
    "    df_buffer = gpd.read_file('buffer.geojson')\n",
    "    ax = df_buffer.plot(figsize =(10,10))\n",
    "    mplleaflet.show(fig=ax.figure, epsg=4326)"
   ]
  },
  {
   "cell_type": "code",
   "execution_count": null,
   "metadata": {},
   "outputs": [],
   "source": []
  },
  {
   "cell_type": "code",
   "execution_count": null,
   "metadata": {},
   "outputs": [],
   "source": []
  },
  {
   "cell_type": "code",
   "execution_count": null,
   "metadata": {},
   "outputs": [],
   "source": []
  },
  {
   "cell_type": "code",
   "execution_count": null,
   "metadata": {},
   "outputs": [],
   "source": []
  },
  {
   "cell_type": "code",
   "execution_count": null,
   "metadata": {},
   "outputs": [],
   "source": []
  },
  {
   "cell_type": "code",
   "execution_count": 6,
   "metadata": {},
   "outputs": [],
   "source": [
    "def farmer_loc_buffer(path, lat, lon, km):\n",
    "    df = pd.read_csv(path)\n",
    "    df1 = df[['lattitude','longitude']]\n",
    "    geometry = [Point(xy) for xy in zip(df1['longitude'] , df1['lattitude'])]\n",
    "\n",
    "    # crs = {'init': 'epsg:4326'}\n",
    "    crs = CRS('epsg:4326')\n",
    "\n",
    "    gdf = gpd.GeoDataFrame(df1 , crs=crs , geometry=geometry)\n",
    "    gdf.to_file(filename = 'loc.geojson', driver='GeoJSON')\n",
    "#     df_new = gpd.read_file('.geojson')\n",
    "    \n",
    "    proj_wgs84 = pyproj.Proj('+proj=longlat +datum=WGS84')\n",
    "\n",
    "\n",
    "    def geodesic_point_buffer():\n",
    "        # Azimuthal equidistant projection\n",
    "        aeqd_proj = '+proj=aeqd +lat_0={lat} +lon_0={lon} +x_0=0 +y_0=0'\n",
    "        project = partial(\n",
    "            pyproj.transform,\n",
    "            pyproj.Proj(aeqd_proj.format(lat=lat, lon=lon)),\n",
    "            proj_wgs84)\n",
    "        buf = Point(0, 0).buffer(km * 1000)  # distance in metres\n",
    "        return transform(project, buf).exterior.coords[:]\n",
    "    \n",
    "    b = geodesic_point_buffer()\n",
    "    dff = pd.DataFrame(b,columns=['LAT','LONG'])\n",
    "#     print (dff)\n",
    "    geometry1 = [Point(xy) for xy in zip(dff['LAT'] , dff['LONG'])]\n",
    "\n",
    "    crs = CRS('epsg:4326')\n",
    "    gdf_buffer = gpd.GeoDataFrame(dff , crs=crs , geometry=geometry1)\n",
    "    gdf_buffer.to_file(filename = 'buffer.geojson', driver='GeoJSON')\n",
    "#     df_buffer = gpd.read_file('buffer.geojson')\n",
    "\n",
    "farmer_loc_buffer('tbl_data.csv',9.94, 77.18, 10.0)"
   ]
  },
  {
   "cell_type": "code",
   "execution_count": null,
   "metadata": {},
   "outputs": [],
   "source": []
  },
  {
   "cell_type": "code",
   "execution_count": null,
   "metadata": {},
   "outputs": [],
   "source": []
  },
  {
   "cell_type": "code",
   "execution_count": null,
   "metadata": {},
   "outputs": [],
   "source": []
  },
  {
   "cell_type": "code",
   "execution_count": null,
   "metadata": {},
   "outputs": [],
   "source": []
  },
  {
   "cell_type": "code",
   "execution_count": null,
   "metadata": {},
   "outputs": [],
   "source": []
  },
  {
   "cell_type": "code",
   "execution_count": 8,
   "metadata": {},
   "outputs": [],
   "source": [
    "kml = simplekml.Kml()\n",
    "# kml.newpoint(name=\"trial\", coords=b)\n",
    "# path = \"botanical.kml\"\n",
    "# kml.save(path)\n",
    "\n",
    "# subprocess.call(['open',path])"
   ]
  },
  {
   "cell_type": "code",
   "execution_count": 4,
   "metadata": {},
   "outputs": [],
   "source": [
    "poly = polycircles.Polycircle(latitude=9.94991294,\n",
    "                             longitude=-77.18188607,\n",
    "                             radius=100.0,\n",
    "                             number_of_vertices=60)\n",
    "\n",
    "poly_kml = simplekml.Kml()\n",
    "circle = poly_kml.newpolygon(name='san diego', outerboundaryis=poly.to_kml())\n",
    "circle.style.polystyle.color = simplekml.Color.changealphaint(200 , simplekml.Color.green)\n",
    "path = \"circle.kml\"\n",
    "poly_kml.save(path)"
   ]
  },
  {
   "cell_type": "code",
   "execution_count": 10,
   "metadata": {},
   "outputs": [],
   "source": [
    "import simplekml\n",
    "kml = simplekml.Kml()\n",
    "pol = kml.newpolygon(name='A Polygon')\n",
    "pol.outerboundaryis = [(18.333868,-34.038274), (18.370618,-34.034421),\n",
    "                       (18.350616,-34.051677),(18.333868,-34.038274)]\n",
    "pol.innerboundaryis = [(18.347171,-34.040177), (18.355741,-34.039730),\n",
    "                       (18.350467,-34.048388),(18.347171,-34.040177)]\n",
    "kml.save(\"Polygon.kml\")"
   ]
  },
  {
   "cell_type": "code",
   "execution_count": 11,
   "metadata": {},
   "outputs": [],
   "source": [
    "import simplekml\n",
    "kml = simplekml.Kml()\n",
    "pol = kml.newpolygon(name='A Polygon')\n",
    "pol.outerboundaryis = [(18.333868,-34.038274), (18.370618,-34.034421),\n",
    "                       (18.350616,-34.051677),(18.333868,-34.038274)]\n",
    "pol.innerboundaryis = [(18.347171,-34.040177), (18.355741,-34.039730),\n",
    "                       (18.350467,-34.048388),(18.347171,-34.040177)]\n",
    "pol.style.linestyle.color = simplekml.Color.green\n",
    "pol.style.linestyle.width = 5\n",
    "pol.style.polystyle.color = simplekml.Color.changealphaint(100, simplekml.Color.green)\n",
    "kml.save(\"Polygon Styling.kml\")"
   ]
  },
  {
   "cell_type": "code",
   "execution_count": null,
   "metadata": {},
   "outputs": [],
   "source": []
  }
 ],
 "metadata": {
  "kernelspec": {
   "display_name": "Python 3",
   "language": "python",
   "name": "python3"
  },
  "language_info": {
   "codemirror_mode": {
    "name": "ipython",
    "version": 3
   },
   "file_extension": ".py",
   "mimetype": "text/x-python",
   "name": "python",
   "nbconvert_exporter": "python",
   "pygments_lexer": "ipython3",
   "version": "3.8.5"
  }
 },
 "nbformat": 4,
 "nbformat_minor": 4
}
